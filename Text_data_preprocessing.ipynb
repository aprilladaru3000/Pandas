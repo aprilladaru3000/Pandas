{
  "nbformat": 4,
  "nbformat_minor": 0,
  "metadata": {
    "colab": {
      "provenance": [],
      "collapsed_sections": [
        "NVrl8AKtxaAo",
        "EAhHwuRfxxJY",
        "UnU6owa0yF6A",
        "giat7o6oyVCZ",
        "S9DmBeeryrco",
        "TFCMs_KG0JwQ",
        "B4BBhxmm03Ko"
      ]
    },
    "kernelspec": {
      "name": "python3",
      "display_name": "Python 3"
    },
    "language_info": {
      "name": "python"
    }
  },
  "cells": [
    {
      "cell_type": "markdown",
      "source": [
        "# **Mata Kuliah : BigData & Data Mining**\n",
        "\n",
        "## **Materi : Text data preprocessing**\n",
        "\n",
        "**Kemampuan Akhir Tiap Tahapan Belajar(sub CPMK)**\n",
        "\n",
        "SCPMK 1681902: Mahasiswa mampu menjelaskan dan menerapkan tahapan text data preprocessing dalam proses Knowledge Discovery in Database (KDD), meliputi pembersihan, transformasi, dan normalisasi data teks untuk analisis lebih lanjut.  [CPMK19]\n",
        "\n",
        "**Indikator**\n",
        "*   Mahasiswa dapat menjelaskan konsep dasar text preprocessing (seperti tokenisasi, stopword removal, stemming, dan lemmatization).\n",
        "*   Mahasiswa dapat melakukan pembersihan teks menggunakan teknik text cleaning pada dataset mentah.\n",
        "*   Mahasiswa dapat menerapkan tahapan text preprocessing menggunakan pustaka Python seperti nltk, re, atau sklearn.\n",
        "*   Mahasiswa mampu menyiapkan data teks yang siap digunakan untuk analisis, klasifikasi, atau pemodelan machine learning.\n",
        "\n",
        "<br>\n",
        "<br>\n",
        "Updated:  20 Oktober 2025"
      ],
      "metadata": {
        "id": "hzZz9FXSdwAS"
      }
    },
    {
      "cell_type": "markdown",
      "source": [
        "# **Text Data Preprocessing**\n",
        "\n",
        "<p align=\"justify\"> <b>Text Data Preprocessing</b> merupakan proses untuk <b>membersihkan</b>, <b>menormalkan</b>, dan <b>menyiapkan</b> data teks mentah agar dapat digunakan secara efektif oleh algoritma <i>machine learning</i> maupun <i>Natural Language Processing</i> (NLP). Proses ini sangat penting karena data teks mentah sering kali tidak terstruktur dan mengandung banyak elemen yang tidak relevan bagi analisis.</p>\n",
        "\n",
        "<p align=\"justify\"> Teks mentah umumnya memiliki berbagai permasalahan, seperti keberadaan tanda baca, karakter khusus, kata-kata tidak penting (<i>stopwords</i>), serta variasi dalam bentuk penulisan seperti huruf besar–kecil, singkatan, atau ejaan yang tidak konsisten. Tanpa dilakukan <i>preprocessing</i>, data teks tersebut sulit dipahami oleh mesin dan dapat menurunkan akurasi model.</p>\n",
        "\n",
        "<p align=\"justify\"> Oleh karena itu, tahapan <i>text preprocessing</i> biasanya meliputi beberapa langkah penting, seperti <b>tokenisasi</b> (memecah teks menjadi unit kata atau kalimat), <b>case folding</b> (mengubah seluruh huruf menjadi kecil), <b>stopword removal</b> (menghapus kata umum yang tidak bermakna penting), <b>stemming</b> atau <b>lemmatization</b> (mengembalikan kata ke bentuk dasarnya), serta <b>normalisasi teks</b> untuk menyamakan format penulisan. Hasil akhir dari proses ini adalah data teks yang bersih, konsisten, dan siap digunakan dalam tahap analisis atau pelatihan model NLP.</p>\n"
      ],
      "metadata": {
        "id": "4LoRechvdz86"
      }
    },
    {
      "cell_type": "markdown",
      "source": [
        "# **Tahapan Umum Text Data Preprocessing**\n",
        "Tahapan umum Text Data Preprocessing merupakan langkah-langkah yang dilakukan untuk menyiapkan teks mentah agar bisa dianalisis atau diproses oleh algoritma machine learning atau text mining.\n",
        "\n",
        "Berikut Tahapan Umum **Text Data Preprocessing** dan penjelasan singkat:\n",
        "\n",
        "1. **Menghapus Tanda Baca**: Menghilangkan tanda baca seperti titik, koma, tanda tanya, atau tanda seru yang tidak memberikan makna penting pada analisis teks.\n",
        "2. **Menghapus Angka**: Menghapus angka yang tidak relevan agar data teks menjadi lebih bersih dan fokus pada kata.\n",
        "3. **Menghapus Karakter Khusus**: Menghapus karakter seperti `@`, `#`, `&`, dan simbol lainnya yang tidak memiliki makna semantik.\n",
        "4. **Menghapus URL**: Menghapus tautan atau alamat web untuk menghindari noise dalam analisis teks.\n",
        "5. **Menghapus Spasi Berlebih**: Merapikan teks dengan menghapus spasi ganda atau karakter whitespace yang tidak diperlukan.\n",
        "6. **Mengubah Teks Menjadi Huruf Kecil (Lowercase)**: Menyeragamkan semua huruf menjadi huruf kecil agar analisis tidak membedakan huruf besar dan kecil.\n",
        "7. **Menghapus Stopwords (Kata Umum)**: Menghapus kata-kata umum seperti “dan”, “yang”, “di” yang tidak menambah makna penting pada analisis.\n",
        "8. **Stemming (Mengubah Kata ke Bentuk Dasar)**: Mengubah kata ke bentuk dasarnya, misalnya “berlari” menjadi “lari”, untuk konsistensi.\n",
        "9. **Lemmatization (Mengubah Kata ke Bentuk Lemma)**: Mengubah kata ke bentuk lemma atau bentuk baku berdasarkan konteks tata bahasa, misalnya “went” menjadi “go”.\n",
        "10. **Tokenizing**: Merupakan proses memecah teks menjadi bagian-bagian kecil yang disebut token, seperti kata, frasa, atau kalimat. Tujuannya adalah agar teks lebih mudah diproses dan dianalisis oleh komputer dalam tahap selanjutnya, seperti analisis sentimen atau pemodelan teks.\n"
      ],
      "metadata": {
        "id": "VzibL8sMd5xT"
      }
    },
    {
      "cell_type": "markdown",
      "source": [
        "# **Text Cleaning**"
      ],
      "metadata": {
        "id": "rO2oAsgOQwHr"
      }
    },
    {
      "cell_type": "markdown",
      "source": [
        "**1. Menghapus Tanda Baca**"
      ],
      "metadata": {
        "id": "D6cG7dwDw8fo"
      }
    },
    {
      "cell_type": "markdown",
      "source": [
        "* **Menggunakan Re (Regular Expression)** <br>\n",
        "Menghapus semua karakter kecuali huruf, angka, dan spasi."
      ],
      "metadata": {
        "id": "6hLRvZ0W3fFb"
      }
    },
    {
      "cell_type": "code",
      "source": [
        "# Pustaka bawaan Python untuk pencarian dan manipulasi teks menggunakan pola tertentu.\n",
        "import re"
      ],
      "metadata": {
        "id": "EqBy191OR3b7"
      },
      "execution_count": null,
      "outputs": []
    },
    {
      "cell_type": "code",
      "source": [
        "text = \"Halo, apa kabar? Saya harap semua baik-baik saja!\"\n",
        "cleaned = re.sub(r'[^\\w\\s]', '', text)"
      ],
      "metadata": {
        "id": "tug3euocR5f7"
      },
      "execution_count": null,
      "outputs": []
    },
    {
      "cell_type": "code",
      "source": [
        "print(\"Teks Asli:   \", text)\n",
        "print(\"Teks Bersih: \", cleaned)"
      ],
      "metadata": {
        "id": "BHJZDS4_d_1D",
        "colab": {
          "base_uri": "https://localhost:8080/"
        },
        "outputId": "9318b3cb-39d1-48e3-c9ec-76f250dbfce7"
      },
      "execution_count": null,
      "outputs": [
        {
          "output_type": "stream",
          "name": "stdout",
          "text": [
            "Teks Asli:    Halo, apa kabar? Saya harap semua baik-baik saja!\n",
            "Teks Bersih:  Halo apa kabar Saya harap semua baikbaik saja\n"
          ]
        }
      ]
    },
    {
      "cell_type": "markdown",
      "source": [
        "* **Menggunakan Comprehension + str.isalnum()** <br>\n",
        "Menggunakan list comprehension dan fungsi bawaan Python"
      ],
      "metadata": {
        "id": "4XKyqT_6329o"
      }
    },
    {
      "cell_type": "code",
      "source": [
        "text = \"Terima kasih!!! Kapan kita bertemu? (Besok?)\"\n",
        "cleaned = ''.join(ch for ch in text if ch.isalnum() or ch.isspace())"
      ],
      "metadata": {
        "id": "58WEGzQ32E05"
      },
      "execution_count": null,
      "outputs": []
    },
    {
      "cell_type": "code",
      "source": [
        "print(\"Teks Asli:   \", text)\n",
        "print(\"Teks Bersih: \", cleaned)"
      ],
      "metadata": {
        "colab": {
          "base_uri": "https://localhost:8080/"
        },
        "id": "ffnO3063UWYM",
        "outputId": "c4249113-f124-4449-a03d-7711593e1821"
      },
      "execution_count": null,
      "outputs": [
        {
          "output_type": "stream",
          "name": "stdout",
          "text": [
            "Teks Asli:    Terima kasih!!! Kapan kita bertemu? (Besok?)\n",
            "Teks Bersih:  Terima kasih Kapan kita bertemu Besok\n"
          ]
        }
      ]
    },
    {
      "cell_type": "markdown",
      "source": [
        "**2. Menghapus Angka**"
      ],
      "metadata": {
        "id": "NVrl8AKtxaAo"
      }
    },
    {
      "cell_type": "markdown",
      "source": [
        "* **Teks dengan Harga dan Kuantitas** <br>\n",
        "Menghapus semua angka dari sebuah teks menggunakan fungsi bawaan Python **str.translate()** dan **str.maketrans()**"
      ],
      "metadata": {
        "id": "PqRZhlYS40Sw"
      }
    },
    {
      "cell_type": "code",
      "source": [
        "text = \"Saya membeli 2 buah Baterai AA seharga Rp 25.000 dengan kode produk 89927A.\"\n",
        "cleaned_text = text.translate(str.maketrans('', '', '0123456789'))"
      ],
      "metadata": {
        "id": "oL1tp6M8VwGk"
      },
      "execution_count": null,
      "outputs": []
    },
    {
      "cell_type": "code",
      "source": [
        "print(f\"Teks Asli: {text}\")\n",
        "print(f\"Teks Bersih: {cleaned_text}\")"
      ],
      "metadata": {
        "colab": {
          "base_uri": "https://localhost:8080/"
        },
        "id": "W2uD7FPmeWe3",
        "outputId": "e14ffd15-d1f4-4d3e-8519-df7cdd812291"
      },
      "execution_count": null,
      "outputs": [
        {
          "output_type": "stream",
          "name": "stdout",
          "text": [
            "Teks Asli: Saya membeli 2 buah Baterai AA seharga Rp 25.000 dengan kode produk 89927A.\n",
            "Teks Bersih: Saya membeli  buah Baterai AA seharga Rp . dengan kode produk A.\n"
          ]
        }
      ]
    },
    {
      "cell_type": "markdown",
      "source": [
        "* **Teks dengan Nomor Telepon dan Alamat** <br>"
      ],
      "metadata": {
        "id": "9jWXnme25G2J"
      }
    },
    {
      "cell_type": "code",
      "source": [
        "text = \"Silakan hubungi customer service di 081234567890 jika paket belum sampai ke Jalan Merdeka No. 15.\"\n",
        "cleaned_text = text.translate(str.maketrans('', '', '0123456789'))"
      ],
      "metadata": {
        "id": "gHYwaWkeV6XL"
      },
      "execution_count": null,
      "outputs": []
    },
    {
      "cell_type": "code",
      "source": [
        "print(f\"Teks Asli: {text}\")\n",
        "print(f\"Teks Bersih: {cleaned_text}\")"
      ],
      "metadata": {
        "colab": {
          "base_uri": "https://localhost:8080/"
        },
        "id": "VUep9to-5L55",
        "outputId": "19165b38-a833-41b2-a5ac-d61990efc62b"
      },
      "execution_count": null,
      "outputs": [
        {
          "output_type": "stream",
          "name": "stdout",
          "text": [
            "Teks Asli: Silakan hubungi customer service di 081234567890 jika paket belum sampai ke Jalan Merdeka No. 15.\n",
            "Teks Bersih: Silakan hubungi customer service di  jika paket belum sampai ke Jalan Merdeka No. .\n"
          ]
        }
      ]
    },
    {
      "cell_type": "markdown",
      "source": [
        "* **Teks dengan Tanggal dan Persentase** <br>"
      ],
      "metadata": {
        "id": "kIJSoeXf5HF2"
      }
    },
    {
      "cell_type": "code",
      "source": [
        "text = \"Event promo 10.10 pada 10 Oktober 2024 memberikan diskon hingga 90% untuk semua item.\"\n",
        "cleaned_text = text.translate(str.maketrans('', '', '0123456789'))"
      ],
      "metadata": {
        "id": "L0fHcCKHV8sl"
      },
      "execution_count": null,
      "outputs": []
    },
    {
      "cell_type": "code",
      "source": [
        "print(f\"Teks Asli: {text}\")\n",
        "print(f\"Teks Bersih: {cleaned_text}\")"
      ],
      "metadata": {
        "colab": {
          "base_uri": "https://localhost:8080/"
        },
        "id": "tVXIYU2P5Xmp",
        "outputId": "20a54d73-d06d-47b2-dd9c-2ae0777adeaa"
      },
      "execution_count": null,
      "outputs": [
        {
          "output_type": "stream",
          "name": "stdout",
          "text": [
            "Teks Asli: Event promo 10.10 pada 10 Oktober 2024 memberikan diskon hingga 90% untuk semua item.\n",
            "Teks Bersih: Event promo . pada  Oktober  memberikan diskon hingga % untuk semua item.\n"
          ]
        }
      ]
    },
    {
      "cell_type": "markdown",
      "source": [
        "**3. Menghapus Karakter Khusus**"
      ],
      "metadata": {
        "id": "EAhHwuRfxxJY"
      }
    },
    {
      "cell_type": "markdown",
      "source": [
        "* **Teks dari Ulasan Produk** <br>"
      ],
      "metadata": {
        "id": "AGd7btcQ6wGh"
      }
    },
    {
      "cell_type": "code",
      "source": [
        "import re"
      ],
      "metadata": {
        "id": "UNmuG_7LWYGk"
      },
      "execution_count": null,
      "outputs": []
    },
    {
      "cell_type": "code",
      "source": [
        "text = \"Kualitasnya TOP!! ⭐⭐⭐⭐⭐ Bahannya bagus & harganyea murah mriah. Recomended!\"\n",
        "cleaned_text = re.sub(r'[^\\w\\s]', '', text)"
      ],
      "metadata": {
        "id": "RNLsqZrhWZ4l"
      },
      "execution_count": null,
      "outputs": []
    },
    {
      "cell_type": "code",
      "source": [
        "print(f\"Teks Asli: {text}\")\n",
        "print(f\"Teks Bersih: {cleaned_text}\")"
      ],
      "metadata": {
        "colab": {
          "base_uri": "https://localhost:8080/"
        },
        "id": "nk4puNoc619T",
        "outputId": "ae2a83ed-9639-4488-ebdb-7b24e859de9b"
      },
      "execution_count": null,
      "outputs": [
        {
          "output_type": "stream",
          "name": "stdout",
          "text": [
            "Teks Asli: Kualitasnya TOP!! ⭐⭐⭐⭐⭐ Bahannya bagus & harganya murah meriah. Recomended!\n",
            "Teks Bersih: Kualitasnya TOP  Bahannya bagus  harganya murah meriah Recomended\n"
          ]
        }
      ]
    },
    {
      "cell_type": "markdown",
      "source": [
        "* **Teks dengan Simbol Mata Uang dan Matematika** <br>"
      ],
      "metadata": {
        "id": "3pB0JzVz6wOH"
      }
    },
    {
      "cell_type": "code",
      "source": [
        "text = \"Harga barangnya $50.00, setelah diskon 25% menjadi $37.50. Totalnya <= $40.\"\n",
        "cleaned_text = re.sub(r'[^\\w\\s]', '', text)"
      ],
      "metadata": {
        "id": "ou7DuE8S7HUy"
      },
      "execution_count": null,
      "outputs": []
    },
    {
      "cell_type": "code",
      "source": [
        "print(f\"Teks Asli: {text}\")\n",
        "print(f\"Teks Bersih: {cleaned_text}\")"
      ],
      "metadata": {
        "colab": {
          "base_uri": "https://localhost:8080/"
        },
        "id": "2B4pPgBoWkHr",
        "outputId": "fbd972d0-95d4-4bb1-f1cd-4d1c2d30d0bc"
      },
      "execution_count": null,
      "outputs": [
        {
          "output_type": "stream",
          "name": "stdout",
          "text": [
            "Teks Asli: Harga barangnya $50.00, setelah diskon 25% menjadi $37.50. Totalnya <= $40.\n",
            "Teks Bersih: Harga barangnya 5000 setelah diskon 25 menjadi 3750 Totalnya  40\n"
          ]
        }
      ]
    },
    {
      "cell_type": "markdown",
      "source": [
        "* **Teks dari Data yang Tidak Terstruktur** <br>"
      ],
      "metadata": {
        "id": "3SfYrAH46wVm"
      }
    },
    {
      "cell_type": "code",
      "source": [
        "text = \"Laporan (final_v2) ini berisi data penting [CONFIDENTIAL] - jangan disebar! © 2025.\"\n",
        "cleaned_text = re.sub(r'[^\\w\\s]', '', text)"
      ],
      "metadata": {
        "id": "4LPGWFMzWrCV"
      },
      "execution_count": null,
      "outputs": []
    },
    {
      "cell_type": "code",
      "source": [
        "print(f\"Teks Asli: {text}\")\n",
        "print(f\"Teks Bersih: {cleaned_text}\")"
      ],
      "metadata": {
        "colab": {
          "base_uri": "https://localhost:8080/"
        },
        "id": "JApB3UKWeZ5E",
        "outputId": "7e881772-5455-4524-f291-4899346c8cea"
      },
      "execution_count": null,
      "outputs": [
        {
          "output_type": "stream",
          "name": "stdout",
          "text": [
            "Teks Asli: Laporan (final_v2) ini berisi data penting [CONFIDENTIAL] - jangan disebar! © 2025.\n",
            "Teks Bersih: Laporan final_v2 ini berisi data penting CONFIDENTIAL  jangan disebar  2025\n"
          ]
        }
      ]
    },
    {
      "cell_type": "markdown",
      "source": [
        "**4. Menghapus URL**"
      ],
      "metadata": {
        "id": "UnU6owa0yF6A"
      }
    },
    {
      "cell_type": "code",
      "source": [
        "import re"
      ],
      "metadata": {
        "id": "d9561_kIW-Gk"
      },
      "execution_count": null,
      "outputs": []
    },
    {
      "cell_type": "code",
      "source": [
        "text = \"Kunjungi situs kami di https://www.contoh.com atau cek juga http://toko-online.net untuk info lebih lanjut.\"\n",
        "cleaned_text = re.sub(r'https?://\\S+', '', text)"
      ],
      "metadata": {
        "id": "Vs4nPDOCXJYE"
      },
      "execution_count": null,
      "outputs": []
    },
    {
      "cell_type": "code",
      "source": [
        "print(f\"Teks Asli: {text}\")\n",
        "print(f\"Teks Bersih: {cleaned_text}\")"
      ],
      "metadata": {
        "colab": {
          "base_uri": "https://localhost:8080/"
        },
        "id": "x6Wl3CRZyJAX",
        "outputId": "f0fe0263-b794-4be9-862a-25af669cba4f"
      },
      "execution_count": null,
      "outputs": [
        {
          "output_type": "stream",
          "name": "stdout",
          "text": [
            "Teks Asli: Kunjungi situs kami di https://www.contoh.com atau cek juga http://toko-online.net untuk info lebih lanjut.\n",
            "Teks Bersih: Kunjungi situs kami di  atau cek juga  untuk info lebih lanjut.\n"
          ]
        }
      ]
    },
    {
      "cell_type": "code",
      "source": [
        "text = \"Info lengkap ada di https://bit.ly/info123 dan juga di http://example.org/data.\"\n",
        "cleaned_text = re.sub(r'https?://\\S+', '', text)"
      ],
      "metadata": {
        "id": "Sc5SybHmXHA8"
      },
      "execution_count": null,
      "outputs": []
    },
    {
      "cell_type": "code",
      "source": [
        "print(\"Teks Asli:  \", text)\n",
        "print(\"Teks Bersih:\", cleaned_text)"
      ],
      "metadata": {
        "colab": {
          "base_uri": "https://localhost:8080/"
        },
        "id": "QKEQid57XNe0",
        "outputId": "1d88df28-7c57-4ac1-e2a6-2b7d751b6fc8"
      },
      "execution_count": null,
      "outputs": [
        {
          "output_type": "stream",
          "name": "stdout",
          "text": [
            "Teks Asli:   Info lengkap ada di https://bit.ly/info123 dan juga di http://example.org/data.\n",
            "Teks Bersih: Info lengkap ada di  dan juga di \n"
          ]
        }
      ]
    },
    {
      "cell_type": "markdown",
      "source": [
        "**5. Menghapus Spasi Berlebih**"
      ],
      "metadata": {
        "id": "giat7o6oyVCZ"
      }
    },
    {
      "cell_type": "markdown",
      "source": [
        "* **Teks dengan Campuran Spasi dan Tab** <br>"
      ],
      "metadata": {
        "id": "a7Q-BE6x8HfO"
      }
    },
    {
      "cell_type": "code",
      "source": [
        "text = \"\tProduk ini\t\tsangat bagus dan\tberkualitas. \"\n",
        "\n",
        "# memisahkan teks berdasarkan spasi, tab, atau newline\n",
        "# Output: ['Produk', 'ini', 'sangat', 'bagus', 'dan', 'berkualitas.']\n",
        "cleaned_text = \" \".join(text.split())"
      ],
      "metadata": {
        "id": "CpTwTnWLYvSN"
      },
      "execution_count": null,
      "outputs": []
    },
    {
      "cell_type": "code",
      "source": [
        "print(f\"Teks Asli: '{text}'\")\n",
        "print(f\"Teks Bersih: '{cleaned_text}'\")"
      ],
      "metadata": {
        "colab": {
          "base_uri": "https://localhost:8080/"
        },
        "id": "Ifp0qhyy8MGL",
        "outputId": "dc7fad5f-00da-4b2f-eb00-6ba915ab3518"
      },
      "execution_count": null,
      "outputs": [
        {
          "output_type": "stream",
          "name": "stdout",
          "text": [
            "Teks Asli: '\tProduk ini\t\tsangat bagus dan\tberkualitas. '\n",
            "Teks Bersih: 'Produk ini sangat bagus dan berkualitas.'\n"
          ]
        }
      ]
    },
    {
      "cell_type": "markdown",
      "source": [
        "* **Teks dengan Baris Baru (Newlines) di Awal dan Akhir** <br>"
      ],
      "metadata": {
        "id": "rq0GcYHN8Hl2"
      }
    },
    {
      "cell_type": "code",
      "source": [
        "text = \"\\n\\n   Layanan pelanggan sangat responsif.  \\n\"\n",
        "cleaned_text = \" \".join(text.split())"
      ],
      "metadata": {
        "id": "YKpywIGoZLM9"
      },
      "execution_count": null,
      "outputs": []
    },
    {
      "cell_type": "code",
      "source": [
        "print(f\"Teks Asli: '{text}'\")\n",
        "print(f\"Teks Bersih: '{cleaned_text}'\")"
      ],
      "metadata": {
        "colab": {
          "base_uri": "https://localhost:8080/"
        },
        "id": "EMX0tGEf8StK",
        "outputId": "02e950f9-0469-48a9-c99e-f1e090b0d2d3"
      },
      "execution_count": null,
      "outputs": [
        {
          "output_type": "stream",
          "name": "stdout",
          "text": [
            "Teks Asli: '\n",
            "\n",
            "   Layanan pelanggan sangat responsif.  \n",
            "'\n",
            "Teks Bersih: 'Layanan pelanggan sangat responsif.'\n"
          ]
        }
      ]
    },
    {
      "cell_type": "markdown",
      "source": [
        "* **Teks dari String Multi-baris (Multi-line String)** <br>"
      ],
      "metadata": {
        "id": "QprqVlWT8HtC"
      }
    },
    {
      "cell_type": "code",
      "source": [
        "text = \"\"\"\n",
        "Data Science\n",
        "adalah bidang studi\n",
        "  yang sangat   menarik.\n",
        "\"\"\"\n",
        "cleaned_text = \" \".join(text.split())\n",
        "\n",
        "print(f\"Teks Asli: '''{text}'''\")\n",
        "print(f\"Teks Bersih: '{cleaned_text}'\")"
      ],
      "metadata": {
        "colab": {
          "base_uri": "https://localhost:8080/"
        },
        "id": "GfLOgQu7yXOw",
        "outputId": "207604e8-a32f-48bc-9ac7-85467ad46f36"
      },
      "execution_count": null,
      "outputs": [
        {
          "output_type": "stream",
          "name": "stdout",
          "text": [
            "Teks Asli: '''\n",
            "Data Science\n",
            "adalah bidang studi\n",
            "  yang sangat   menarik.\n",
            "'''\n",
            "Teks Bersih: 'Data Science adalah bidang studi yang sangat menarik.'\n"
          ]
        }
      ]
    },
    {
      "cell_type": "markdown",
      "source": [
        "# **Case Folding**"
      ],
      "metadata": {
        "id": "2xx9iK98ZmwE"
      }
    },
    {
      "cell_type": "markdown",
      "source": [
        "**6. Mengubah Teks menjadi Huruf Kecil (Lowercase) dan besar (Uppercase)**"
      ],
      "metadata": {
        "id": "S9DmBeeryrco"
      }
    },
    {
      "cell_type": "markdown",
      "source": [
        "* **Teks dengan Judul atau Kapitalisasi yang Tidak Konsisten** <br>"
      ],
      "metadata": {
        "id": "fMMeMEA8-tXl"
      }
    },
    {
      "cell_type": "code",
      "source": [
        "text = \"Machine Learning dan deep Learning adalah Cabang dari ArtificiaL intelligence.\"\n",
        "# .lower() adalah method milik string(text) yang sudah disediakan Python secara default\n",
        "cleaned_text = text.lower()"
      ],
      "metadata": {
        "id": "14a5SbAUaTCO"
      },
      "execution_count": null,
      "outputs": []
    },
    {
      "cell_type": "code",
      "source": [
        "print(f\"Teks Asli: {text}\")\n",
        "print(f\"Teks Bersih: {cleaned_text}\")"
      ],
      "metadata": {
        "colab": {
          "base_uri": "https://localhost:8080/"
        },
        "id": "RXNsoHoo-whz",
        "outputId": "ec5165d7-1bea-4bca-d080-61155ae4aabe"
      },
      "execution_count": null,
      "outputs": [
        {
          "output_type": "stream",
          "name": "stdout",
          "text": [
            "Teks Asli: Machine Learning dan deep Learning adalah Cabang dari ArtificiaL intelligence.\n",
            "Teks Bersih: machine learning dan deep learning adalah cabang dari artificial intelligence.\n"
          ]
        }
      ]
    },
    {
      "cell_type": "markdown",
      "source": [
        "* **Teks dari Media Sosial yang Menggunakan \"Alay\" atau Huruf Besar untuk Penekanan** <br>"
      ],
      "metadata": {
        "id": "WOOGnCmZ-ted"
      }
    },
    {
      "cell_type": "code",
      "source": [
        "text = \"Barangnya SUDAH SAMPAI, TERIMA KASIH BANYAK! CEPAT SEKALI pengirimannya.\"\n",
        "cleaned_text = text.lower()"
      ],
      "metadata": {
        "id": "dcxXu4g1auk1"
      },
      "execution_count": null,
      "outputs": []
    },
    {
      "cell_type": "code",
      "source": [
        "print(f\"Teks Asli: {text}\")\n",
        "print(f\"Teks Bersih: {cleaned_text}\")"
      ],
      "metadata": {
        "colab": {
          "base_uri": "https://localhost:8080/"
        },
        "id": "VA8jl6aI-4-6",
        "outputId": "eaf2e971-0306-427c-f70b-e429d03053e0"
      },
      "execution_count": null,
      "outputs": [
        {
          "output_type": "stream",
          "name": "stdout",
          "text": [
            "Teks Asli: Barangnya SUDAH SAMPAI, TERIMA KASIH BANYAK! CEPAT SEKALI pengirimannya.\n",
            "Teks Bersih: barangnya sudah sampai, terima kasih banyak! cepat sekali pengirimannya.\n"
          ]
        }
      ]
    },
    {
      "cell_type": "code",
      "source": [
        "text = \"Machine Learning dan deep Learning adalah Cabang dari ArtificiaL intelligence.\"\n",
        "cleaned_text = text.upper()"
      ],
      "metadata": {
        "id": "Rg87XQWxa_2N"
      },
      "execution_count": null,
      "outputs": []
    },
    {
      "cell_type": "code",
      "source": [
        "print(f\"Teks Asli: {text}\")\n",
        "print(f\"Teks Bersih: {cleaned_text}\")"
      ],
      "metadata": {
        "colab": {
          "base_uri": "https://localhost:8080/"
        },
        "id": "5BedMrqma-nM",
        "outputId": "9a7bae75-e4c2-4050-b955-4f547b0a3d03"
      },
      "execution_count": null,
      "outputs": [
        {
          "output_type": "stream",
          "name": "stdout",
          "text": [
            "Teks Asli: Machine Learning dan deep Learning adalah Cabang dari ArtificiaL intelligence.\n",
            "Teks Bersih: MACHINE LEARNING DAN DEEP LEARNING ADALAH CABANG DARI ARTIFICIAL INTELLIGENCE.\n"
          ]
        }
      ]
    },
    {
      "cell_type": "markdown",
      "source": [
        "# **Stopword Removal (Penghapusan Kata Umum)**"
      ],
      "metadata": {
        "id": "DJ1LN4JcbTw8"
      }
    },
    {
      "cell_type": "markdown",
      "source": [
        "**7. Menghapus Stopwords (Kata Umum)**"
      ],
      "metadata": {
        "id": "xMYZrbOxzUrg"
      }
    },
    {
      "cell_type": "code",
      "source": [
        "import nltk\n",
        "import string\n",
        "from nltk.corpus import stopwords\n",
        "from nltk.tokenize import word_tokenize\n",
        "\n",
        "nltk.download('stopwords')\n",
        "nltk.download('punkt')\n",
        "nltk.download('punkt_tab')"
      ],
      "metadata": {
        "id": "IKGw-pZEDJDq",
        "colab": {
          "base_uri": "https://localhost:8080/"
        },
        "outputId": "45cd3c8a-6912-4501-e8ee-8df5eece4ade"
      },
      "execution_count": null,
      "outputs": [
        {
          "output_type": "stream",
          "name": "stderr",
          "text": [
            "[nltk_data] Downloading package stopwords to /root/nltk_data...\n",
            "[nltk_data]   Unzipping corpora/stopwords.zip.\n",
            "[nltk_data] Downloading package punkt to /root/nltk_data...\n",
            "[nltk_data]   Unzipping tokenizers/punkt.zip.\n",
            "[nltk_data] Downloading package punkt_tab to /root/nltk_data...\n",
            "[nltk_data]   Unzipping tokenizers/punkt_tab.zip.\n"
          ]
        },
        {
          "output_type": "execute_result",
          "data": {
            "text/plain": [
              "True"
            ]
          },
          "metadata": {},
          "execution_count": 44
        }
      ]
    },
    {
      "cell_type": "markdown",
      "source": [
        "* **Teks dari Ulasan Produk** <br>"
      ],
      "metadata": {
        "id": "PIhZFJZu_RJS"
      }
    },
    {
      "cell_type": "code",
      "source": [
        "text = \"Pengiriman produk ini sangat cepat dan kemasannya juga rapi sekali.\"\n",
        "#Menentukan Stopwords Bahasa Indonesia\n",
        "stop_words = set(stopwords.words('indonesian'))\n",
        "word_tokens = word_tokenize(text)"
      ],
      "metadata": {
        "id": "k-y-b9di_VBj"
      },
      "execution_count": null,
      "outputs": []
    },
    {
      "cell_type": "code",
      "source": [
        "filtered_words = [\n",
        "    word for word in word_tokens\n",
        "    if word.lower() not in stop_words and word not in string.punctuation\n",
        "]\n",
        "cleaned_text = \" \".join(filtered_words)"
      ],
      "metadata": {
        "id": "cc-4_uiocLXd"
      },
      "execution_count": null,
      "outputs": []
    },
    {
      "cell_type": "code",
      "source": [
        "print(\"=\"*40)\n",
        "print(f\"Teks Asli  : {text}\")\n",
        "print(f\"Teks Bersih: {cleaned_text}\")\n",
        "print(\"=\"*40)"
      ],
      "metadata": {
        "colab": {
          "base_uri": "https://localhost:8080/"
        },
        "id": "HbwoLFaocam8",
        "outputId": "6ed28ee3-6414-4372-8975-17c946d1a736"
      },
      "execution_count": null,
      "outputs": [
        {
          "output_type": "stream",
          "name": "stdout",
          "text": [
            "========================================\n",
            "Teks Asli  : Pengiriman produk ini sangat cepat dan kemasannya juga rapi sekali.\n",
            "Teks Bersih: Pengiriman produk cepat kemasannya rapi\n",
            "========================================\n"
          ]
        }
      ]
    },
    {
      "cell_type": "markdown",
      "source": [
        "* **Teks dari Judul Berita** <br>"
      ],
      "metadata": {
        "id": "GbH1NzB1_RQO"
      }
    },
    {
      "cell_type": "code",
      "source": [
        "text = \"Pemerintah akan segera mengumumkan kebijakan baru bagi para pelaku usaha kecil.\"\n",
        "stop_words = set(stopwords.words('indonesian'))\n",
        "word_tokens = word_tokenize(text)"
      ],
      "metadata": {
        "id": "Dk4-ZR09_fSr"
      },
      "execution_count": null,
      "outputs": []
    },
    {
      "cell_type": "code",
      "source": [
        "filtered_words = [\n",
        "    word for word in word_tokens\n",
        "    if word.lower() not in stop_words and word not in string.punctuation\n",
        "]\n",
        "\n",
        "cleaned_text = \" \".join(filtered_words)"
      ],
      "metadata": {
        "id": "TQhNADKuczoz"
      },
      "execution_count": null,
      "outputs": []
    },
    {
      "cell_type": "code",
      "source": [
        "print(\"=\"*40)\n",
        "print(f\"Teks Asli  : {text}\")\n",
        "print(f\"Teks Bersih: {cleaned_text}\")\n",
        "print(\"=\"*40)"
      ],
      "metadata": {
        "colab": {
          "base_uri": "https://localhost:8080/"
        },
        "id": "7yPJCMkKc2P9",
        "outputId": "147a0f77-c62a-446a-d8f6-573b529b4ec3"
      },
      "execution_count": null,
      "outputs": [
        {
          "output_type": "stream",
          "name": "stdout",
          "text": [
            "========================================\n",
            "Teks Asli  : Pemerintah akan segera mengumumkan kebijakan baru bagi para pelaku usaha kecil.\n",
            "Teks Bersih: Pemerintah mengumumkan kebijakan pelaku usaha\n",
            "========================================\n"
          ]
        }
      ]
    },
    {
      "cell_type": "markdown",
      "source": [
        "* **Teks dari Kalimat Akademis** <br>"
      ],
      "metadata": {
        "id": "9zrPa_B1_RfO"
      }
    },
    {
      "cell_type": "code",
      "source": [
        "text = \"Kajian ilmiah ini telah dilaksanakan dengan mengaplikasikan serangkaian pendekatan metodologis yang beragam, yang mana keseluruhannya telah melewati proses pengujian dan validasi yang ketat dalam berbagai penelitian terdahulu, sehingga menjamin keabsahan dan reliabilitas temuan yang akan diperoleh.\"\n",
        "stop_words = set(stopwords.words('indonesian'))\n",
        "word_tokens = word_tokenize(text)"
      ],
      "metadata": {
        "id": "41K6MXskedKC"
      },
      "execution_count": null,
      "outputs": []
    },
    {
      "cell_type": "code",
      "source": [
        "filtered_words = [\n",
        "    word for word in word_tokens\n",
        "    if word.lower() not in stop_words and word not in string.punctuation\n",
        "]\n",
        "\n",
        "cleaned_text = \" \".join(filtered_words)"
      ],
      "metadata": {
        "id": "JRpggHNkdah_"
      },
      "execution_count": null,
      "outputs": []
    },
    {
      "cell_type": "code",
      "source": [
        "print(\"=\"*40)\n",
        "print(f\"Teks Asli  : {text}\")\n",
        "print(f\"Teks Bersih: {cleaned_text}\")\n",
        "print(\"=\"*40)"
      ],
      "metadata": {
        "colab": {
          "base_uri": "https://localhost:8080/"
        },
        "id": "OzClzxHhdcn1",
        "outputId": "902320d9-b7e3-41ea-81a3-bcdb67906964"
      },
      "execution_count": null,
      "outputs": [
        {
          "output_type": "stream",
          "name": "stdout",
          "text": [
            "========================================\n",
            "Teks Asli  : Kajian ilmiah ini telah dilaksanakan dengan mengaplikasikan serangkaian pendekatan metodologis yang beragam, yang mana keseluruhannya telah melewati proses pengujian dan validasi yang ketat dalam berbagai penelitian terdahulu, sehingga menjamin keabsahan dan reliabilitas temuan yang akan diperoleh.\n",
            "Teks Bersih: Kajian ilmiah dilaksanakan mengaplikasikan serangkaian pendekatan metodologis beragam melewati proses pengujian validasi ketat penelitian menjamin keabsahan reliabilitas temuan diperoleh\n",
            "========================================\n"
          ]
        }
      ]
    },
    {
      "cell_type": "markdown",
      "source": [
        "# **Text Normalization**"
      ],
      "metadata": {
        "id": "iCKE_vwddy8U"
      }
    },
    {
      "cell_type": "markdown",
      "source": [
        "**8. Stemming (Mengubah Kata ke Bentuk Dasar)**,<br>\n",
        "mengubah kata berimbuhan menjadi bentuk dasarnya\n",
        "<br> Contoh:\n",
        "\n",
        "\n",
        "\n",
        "1.   memuaskan → puas\n",
        "2.   pelayanannya → layan\n",
        "\n",
        "\n",
        "\n"
      ],
      "metadata": {
        "id": "TFCMs_KG0JwQ"
      }
    },
    {
      "cell_type": "code",
      "source": [
        "!pip install Sastrawi"
      ],
      "metadata": {
        "id": "XrHvoIsLDEfj",
        "colab": {
          "base_uri": "https://localhost:8080/"
        },
        "outputId": "afff7e0e-ad76-48fb-c515-89dce29b6155"
      },
      "execution_count": null,
      "outputs": [
        {
          "output_type": "stream",
          "name": "stdout",
          "text": [
            "Collecting Sastrawi\n",
            "  Downloading Sastrawi-1.0.1-py2.py3-none-any.whl.metadata (909 bytes)\n",
            "Downloading Sastrawi-1.0.1-py2.py3-none-any.whl (209 kB)\n",
            "\u001b[?25l   \u001b[90m━━━━━━━━━━━━━━━━━━━━━━━━━━━━━━━━━━━━━━━━\u001b[0m \u001b[32m0.0/209.7 kB\u001b[0m \u001b[31m?\u001b[0m eta \u001b[36m-:--:--\u001b[0m\r\u001b[2K   \u001b[90m━━━━━━━━━━━━━━━━━━━━━━━━━━━━━━━━━━━━━━━━\u001b[0m \u001b[32m209.7/209.7 kB\u001b[0m \u001b[31m6.8 MB/s\u001b[0m eta \u001b[36m0:00:00\u001b[0m\n",
            "\u001b[?25hInstalling collected packages: Sastrawi\n",
            "Successfully installed Sastrawi-1.0.1\n"
          ]
        }
      ]
    },
    {
      "cell_type": "markdown",
      "source": [
        "* **Teks dari Ulasan atau Opini** <br>"
      ],
      "metadata": {
        "id": "7CiMTPs8_49r"
      }
    },
    {
      "cell_type": "code",
      "source": [
        "#Mengimpor kelas pembuat stemmer dari library Sastrawi.\n",
        "from Sastrawi.Stemmer.StemmerFactory import StemmerFactory\n",
        "\n",
        "#membuat stemmer\n",
        "factory = StemmerFactory()\n",
        "stemmer = factory.create_stemmer()"
      ],
      "metadata": {
        "id": "3nSQtaXg_7yC"
      },
      "execution_count": null,
      "outputs": []
    },
    {
      "cell_type": "code",
      "source": [
        "text = \"Kualitas masakannya sangat memuaskan dan pelayanannya pun terbaik.\"\n",
        "cleaned_text = stemmer.stem(text)\n",
        "\n",
        "print(f\"Teks Asli: {text}\")\n",
        "print(f\"Teks Bersih (Stemmed): {cleaned_text}\")"
      ],
      "metadata": {
        "colab": {
          "base_uri": "https://localhost:8080/"
        },
        "id": "az1YMN3te15t",
        "outputId": "d84848b1-be76-40cf-b83c-a7add9525dcf"
      },
      "execution_count": null,
      "outputs": [
        {
          "output_type": "stream",
          "name": "stdout",
          "text": [
            "Teks Asli: Kualitas masakannya sangat memuaskan dan pelayanannya pun terbaik.\n",
            "Teks Bersih (Stemmed): kualitas masakan sangat muas dan layan pun baik\n"
          ]
        }
      ]
    },
    {
      "cell_type": "markdown",
      "source": [
        "* **Teks dari Berita atau Informasi Formal** <br>"
      ],
      "metadata": {
        "id": "TMw2Hsoh_5EW"
      }
    },
    {
      "cell_type": "code",
      "source": [
        "factory = StemmerFactory()\n",
        "stemmer = factory.create_stemmer()"
      ],
      "metadata": {
        "id": "GuIbsq-TAKfK"
      },
      "execution_count": null,
      "outputs": []
    },
    {
      "cell_type": "code",
      "source": [
        "text = \"Pemerintah mengeluarkan peraturan baru mengenai pembatasan kendaraan bermotor.\"\n",
        "cleaned_text = stemmer.stem(text)\n",
        "\n",
        "print(f\"Teks Asli: {text}\")\n",
        "print(f\"Teks Bersih (Stemmed): {cleaned_text}\")"
      ],
      "metadata": {
        "colab": {
          "base_uri": "https://localhost:8080/"
        },
        "id": "1DvNrXgefK0l",
        "outputId": "152d15b9-9b7e-45a3-8e7a-27acecb66c3d"
      },
      "execution_count": null,
      "outputs": [
        {
          "output_type": "stream",
          "name": "stdout",
          "text": [
            "Teks Asli: Pemerintah mengeluarkan peraturan baru mengenai pembatasan kendaraan bermotor.\n",
            "Teks Bersih (Stemmed): perintah keluar atur baru kena batas kendara motor\n"
          ]
        }
      ]
    },
    {
      "cell_type": "markdown",
      "source": [
        "* **Teks dari Percakapan Sehari-hari** <br>"
      ],
      "metadata": {
        "id": "6BOJENaF_5KR"
      }
    },
    {
      "cell_type": "code",
      "source": [
        "factory = StemmerFactory()\n",
        "stemmer = factory.create_stemmer()"
      ],
      "metadata": {
        "id": "xe1r5SfEehVK"
      },
      "execution_count": null,
      "outputs": []
    },
    {
      "cell_type": "code",
      "source": [
        "text = \"Anak-anak sedang bermain di halaman sambil menjalankan tugas mereka.\"\n",
        "cleaned_text = stemmer.stem(text)\n",
        "\n",
        "print(f\"Teks Asli: {text}\")\n",
        "print(f\"Teks Bersih (Stemmed): {cleaned_text}\")"
      ],
      "metadata": {
        "colab": {
          "base_uri": "https://localhost:8080/"
        },
        "id": "jwQuVmSpfQXd",
        "outputId": "e52c7da2-1000-4d9b-986b-c350baac5afc"
      },
      "execution_count": null,
      "outputs": [
        {
          "output_type": "stream",
          "name": "stdout",
          "text": [
            "Teks Asli: Anak-anak sedang bermain di halaman sambil menjalankan tugas mereka.\n",
            "Teks Bersih (Stemmed): anak sedang main di halaman sambil jalan tugas mereka\n"
          ]
        }
      ]
    },
    {
      "cell_type": "markdown",
      "source": [
        "**9. Lemmatization (Mengubah Kata ke Bentuk Lemma)**"
      ],
      "metadata": {
        "id": "B4BBhxmm03Ko"
      }
    },
    {
      "cell_type": "code",
      "source": [
        "nltk.download('punkt')\n",
        "nltk.download('wordnet')\n",
        "nltk.download('omw-1.4')\n",
        "import nltk\n",
        "from nltk.stem import WordNetLemmatizer\n",
        "from nltk.tokenize import word_tokenize\n",
        "import nltk\n",
        "from nltk.stem import WordNetLemmatizer\n",
        "from nltk.tokenize import word_tokenize\n",
        "import nltk\n",
        "from nltk.stem import WordNetLemmatizer\n",
        "from nltk.tokenize import word_tokenize"
      ],
      "metadata": {
        "id": "EnQRBSU4DCBz",
        "colab": {
          "base_uri": "https://localhost:8080/"
        },
        "outputId": "ce679d2f-5dca-48d6-d315-6d1988e8ea9a"
      },
      "execution_count": null,
      "outputs": [
        {
          "output_type": "stream",
          "name": "stderr",
          "text": [
            "[nltk_data] Downloading package punkt to /root/nltk_data...\n",
            "[nltk_data]   Package punkt is already up-to-date!\n",
            "[nltk_data] Downloading package wordnet to /root/nltk_data...\n",
            "[nltk_data] Downloading package omw-1.4 to /root/nltk_data...\n"
          ]
        }
      ]
    },
    {
      "cell_type": "markdown",
      "source": [
        "* **Lemmatization pada Kata Benda Jamak (Plural Nouns)** <br>"
      ],
      "metadata": {
        "id": "ERwUWla4Aloj"
      }
    },
    {
      "cell_type": "code",
      "source": [
        "#Membuat Objek Lemmatizer\n",
        "lemmatizer = WordNetLemmatizer()"
      ],
      "metadata": {
        "id": "ltfeKUYhAo8K"
      },
      "execution_count": null,
      "outputs": []
    },
    {
      "cell_type": "code",
      "source": [
        "text = \"The geese and mice are friends with the octopuses and cacti.\"\n",
        "#Tokenisasi\n",
        "word_tokens = word_tokenize(text)\n",
        "#Proses Lemmatization\n",
        "lemmas = [lemmatizer.lemmatize(word, pos='n') for word in word_tokens]\n",
        "cleaned_text = \" \".join(lemmas)"
      ],
      "metadata": {
        "id": "7mUdTGP9hcPm"
      },
      "execution_count": null,
      "outputs": []
    },
    {
      "cell_type": "code",
      "source": [
        "print(f\"Teks Asli: {text}\")\n",
        "print(f\"Teks Bersih (Lemmatized): {cleaned_text}\")"
      ],
      "metadata": {
        "colab": {
          "base_uri": "https://localhost:8080/"
        },
        "id": "LWUHHoExheck",
        "outputId": "f27dc17d-0702-4102-ec8b-e3e9d3fd9235"
      },
      "execution_count": null,
      "outputs": [
        {
          "output_type": "stream",
          "name": "stdout",
          "text": [
            "Teks Asli: The geese and mice are friends with the octopuses and cacti.\n",
            "Teks Bersih (Lemmatized): The goose and mouse are friend with the octopus and cactus .\n"
          ]
        }
      ]
    },
    {
      "cell_type": "markdown",
      "source": [
        "* **Lemmatization pada Kata Kerja (Verbs) dengan Tenses Berbeda** <br>"
      ],
      "metadata": {
        "id": "X_rzailkAlvI"
      }
    },
    {
      "cell_type": "code",
      "source": [
        "lemmatizer = WordNetLemmatizer()\n",
        "text = \"He drove the car while she was driving another one, and he drives carefully.\"\n",
        "word_tokens = word_tokenize(text)\n",
        "\n",
        "lemmas = [lemmatizer.lemmatize(word, pos='v') for word in word_tokens]\n",
        "cleaned_text = \" \".join(lemmas)"
      ],
      "metadata": {
        "id": "mylFA0UTiT4l"
      },
      "execution_count": null,
      "outputs": []
    },
    {
      "cell_type": "code",
      "source": [
        "print(f\"Teks Asli: {text}\")\n",
        "print(f\"Teks Bersih (Lemmatized): {cleaned_text}\")"
      ],
      "metadata": {
        "colab": {
          "base_uri": "https://localhost:8080/"
        },
        "id": "ffbTll2nA0xK",
        "outputId": "fe8ad3f1-19e6-4da1-f037-3e3097487992"
      },
      "execution_count": null,
      "outputs": [
        {
          "output_type": "stream",
          "name": "stdout",
          "text": [
            "Teks Asli: He drove the car while she was driving another one, and he drives carefully.\n",
            "Teks Bersih (Lemmatized): He drive the car while she be drive another one , and he drive carefully .\n"
          ]
        }
      ]
    },
    {
      "cell_type": "markdown",
      "source": [
        "* **Lemmatization pada Kata Sifat (Adjectives)** <br>"
      ],
      "metadata": {
        "id": "5mtrYU5NAl1Q"
      }
    },
    {
      "cell_type": "code",
      "source": [
        "lemmatizer = WordNetLemmatizer()\n",
        "text = \"The fastest runner has a better technique. Good is not the best.\"\n",
        "word_tokens = word_tokenize(text)\n",
        "\n",
        "lemmas = [lemmatizer.lemmatize(word, pos='a') for word in word_tokens]\n",
        "cleaned_text = \" \".join(lemmas)\n"
      ],
      "metadata": {
        "id": "XqzKfQyG05CJ"
      },
      "execution_count": null,
      "outputs": []
    },
    {
      "cell_type": "code",
      "source": [
        "print(f\"Teks Asli: {text}\")\n",
        "print(f\"Teks Bersih (Lemmatized): {cleaned_text}\")"
      ],
      "metadata": {
        "colab": {
          "base_uri": "https://localhost:8080/"
        },
        "id": "LL5COuGYiwnk",
        "outputId": "0975d272-f1e9-4c18-f1a5-1256e8aa6ce0"
      },
      "execution_count": null,
      "outputs": [
        {
          "output_type": "stream",
          "name": "stdout",
          "text": [
            "Teks Asli: The fastest runner has a better technique. Good is not the best.\n",
            "Teks Bersih (Lemmatized): The fast runner has a good technique . Good is not the best .\n"
          ]
        }
      ]
    },
    {
      "cell_type": "markdown",
      "source": [
        "# **Tokenizing**"
      ],
      "metadata": {
        "id": "4MwWcWKWjEyN"
      }
    },
    {
      "cell_type": "markdown",
      "source": [
        "**10. Tokenizing**<br>\n",
        "memecah teks menjadi potongan-potongan kata (token)"
      ],
      "metadata": {
        "id": "yF8S0ejCXoIY"
      }
    },
    {
      "cell_type": "code",
      "source": [
        "from nltk.tokenize import RegexpTokenizer"
      ],
      "metadata": {
        "id": "RFwkKNBvjhke"
      },
      "execution_count": null,
      "outputs": []
    },
    {
      "cell_type": "code",
      "source": [
        "kalimat = \"Barangnya oke, penjualnya juga ramah dan respon cepat. Mantaplah pokoknya, very good!\"\n",
        "tokenizer = RegexpTokenizer(r'\\w+')\n",
        "hasil_token = tokenizer.tokenize(kalimat.lower())"
      ],
      "metadata": {
        "id": "9pO8JoYPW5W1"
      },
      "execution_count": null,
      "outputs": []
    },
    {
      "cell_type": "code",
      "source": [
        "print(f\"Teks Asli: {kalimat}\")\n",
        "print(f\"Teks Yang Sudah Tertoken: {hasil_token}\")"
      ],
      "metadata": {
        "colab": {
          "base_uri": "https://localhost:8080/"
        },
        "id": "HjCv3rnljjN1",
        "outputId": "a3584720-a2e5-4b1e-aef6-957bff03f05f"
      },
      "execution_count": null,
      "outputs": [
        {
          "output_type": "stream",
          "name": "stdout",
          "text": [
            "Teks Asli: Barangnya oke, penjualnya juga ramah dan respon cepat. Mantaplah pokoknya, very good!\n",
            "Teks Yang Sudah Tertoken: ['barangnya', 'oke', 'penjualnya', 'juga', 'ramah', 'dan', 'respon', 'cepat', 'mantaplah', 'pokoknya', 'very', 'good']\n"
          ]
        }
      ]
    },
    {
      "cell_type": "markdown",
      "source": [
        "# **Text data preprocessing langsung pada dataset csv**"
      ],
      "metadata": {
        "id": "eJ_zVxWGZPu9"
      }
    },
    {
      "cell_type": "markdown",
      "source": [
        "**DATASET** <br>\n",
        "**Link Dataset:** https://drive.google.com/drive/folders/1LtnX1f-zjDdupZQbM6tT-HB8_vc-6ry1?usp=sharing <br>\n",
        "**atau:** https://www.kaggle.com/datasets/mochamadabdulazis/deteksi-berita-hoaks-indo-dataset <br>\n",
        "cari file csv bernama \"cnnindonesia_news_RAW\""
      ],
      "metadata": {
        "id": "T0a2P2xBawtd"
      }
    },
    {
      "cell_type": "code",
      "source": [
        "# Mengimpor modul files dari Google Colab\n",
        "from google.colab import files\n",
        "import io, re\n",
        "import pandas as pd\n",
        "from IPython.display import display"
      ],
      "metadata": {
        "id": "juU67bLsrxtf"
      },
      "execution_count": null,
      "outputs": []
    },
    {
      "cell_type": "code",
      "source": [
        "# Upload & baca file\n",
        "print(\"Upload file Excel (.xlsx/.xls) atau CSV:\")\n",
        "up = files.upload()\n",
        "fname = next(iter(up))\n",
        "buf = io.BytesIO(up[fname])\n",
        "try:\n",
        "    df = pd.read_excel(buf) if fname.lower().endswith(('.xls', '.xlsx')) else pd.read_csv(buf, on_bad_lines='skip')\n",
        "except Exception as e:\n",
        "    buf.seek(0)\n",
        "    df = pd.read_csv(buf, encoding='latin1', on_bad_lines='skip')"
      ],
      "metadata": {
        "colab": {
          "base_uri": "https://localhost:8080/",
          "height": 90
        },
        "id": "Qx7cVmu8tjdf",
        "outputId": "e7532a58-9552-43c7-b7bb-d2f922420fc5"
      },
      "execution_count": null,
      "outputs": [
        {
          "output_type": "stream",
          "name": "stdout",
          "text": [
            "Upload file Excel (.xlsx/.xls) atau CSV:\n"
          ]
        },
        {
          "output_type": "display_data",
          "data": {
            "text/plain": [
              "<IPython.core.display.HTML object>"
            ],
            "text/html": [
              "\n",
              "     <input type=\"file\" id=\"files-e606645d-6137-40d8-b530-07359c4c5342\" name=\"files[]\" multiple disabled\n",
              "        style=\"border:none\" />\n",
              "     <output id=\"result-e606645d-6137-40d8-b530-07359c4c5342\">\n",
              "      Upload widget is only available when the cell has been executed in the\n",
              "      current browser session. Please rerun this cell to enable.\n",
              "      </output>\n",
              "      <script>// Copyright 2017 Google LLC\n",
              "//\n",
              "// Licensed under the Apache License, Version 2.0 (the \"License\");\n",
              "// you may not use this file except in compliance with the License.\n",
              "// You may obtain a copy of the License at\n",
              "//\n",
              "//      http://www.apache.org/licenses/LICENSE-2.0\n",
              "//\n",
              "// Unless required by applicable law or agreed to in writing, software\n",
              "// distributed under the License is distributed on an \"AS IS\" BASIS,\n",
              "// WITHOUT WARRANTIES OR CONDITIONS OF ANY KIND, either express or implied.\n",
              "// See the License for the specific language governing permissions and\n",
              "// limitations under the License.\n",
              "\n",
              "/**\n",
              " * @fileoverview Helpers for google.colab Python module.\n",
              " */\n",
              "(function(scope) {\n",
              "function span(text, styleAttributes = {}) {\n",
              "  const element = document.createElement('span');\n",
              "  element.textContent = text;\n",
              "  for (const key of Object.keys(styleAttributes)) {\n",
              "    element.style[key] = styleAttributes[key];\n",
              "  }\n",
              "  return element;\n",
              "}\n",
              "\n",
              "// Max number of bytes which will be uploaded at a time.\n",
              "const MAX_PAYLOAD_SIZE = 100 * 1024;\n",
              "\n",
              "function _uploadFiles(inputId, outputId) {\n",
              "  const steps = uploadFilesStep(inputId, outputId);\n",
              "  const outputElement = document.getElementById(outputId);\n",
              "  // Cache steps on the outputElement to make it available for the next call\n",
              "  // to uploadFilesContinue from Python.\n",
              "  outputElement.steps = steps;\n",
              "\n",
              "  return _uploadFilesContinue(outputId);\n",
              "}\n",
              "\n",
              "// This is roughly an async generator (not supported in the browser yet),\n",
              "// where there are multiple asynchronous steps and the Python side is going\n",
              "// to poll for completion of each step.\n",
              "// This uses a Promise to block the python side on completion of each step,\n",
              "// then passes the result of the previous step as the input to the next step.\n",
              "function _uploadFilesContinue(outputId) {\n",
              "  const outputElement = document.getElementById(outputId);\n",
              "  const steps = outputElement.steps;\n",
              "\n",
              "  const next = steps.next(outputElement.lastPromiseValue);\n",
              "  return Promise.resolve(next.value.promise).then((value) => {\n",
              "    // Cache the last promise value to make it available to the next\n",
              "    // step of the generator.\n",
              "    outputElement.lastPromiseValue = value;\n",
              "    return next.value.response;\n",
              "  });\n",
              "}\n",
              "\n",
              "/**\n",
              " * Generator function which is called between each async step of the upload\n",
              " * process.\n",
              " * @param {string} inputId Element ID of the input file picker element.\n",
              " * @param {string} outputId Element ID of the output display.\n",
              " * @return {!Iterable<!Object>} Iterable of next steps.\n",
              " */\n",
              "function* uploadFilesStep(inputId, outputId) {\n",
              "  const inputElement = document.getElementById(inputId);\n",
              "  inputElement.disabled = false;\n",
              "\n",
              "  const outputElement = document.getElementById(outputId);\n",
              "  outputElement.innerHTML = '';\n",
              "\n",
              "  const pickedPromise = new Promise((resolve) => {\n",
              "    inputElement.addEventListener('change', (e) => {\n",
              "      resolve(e.target.files);\n",
              "    });\n",
              "  });\n",
              "\n",
              "  const cancel = document.createElement('button');\n",
              "  inputElement.parentElement.appendChild(cancel);\n",
              "  cancel.textContent = 'Cancel upload';\n",
              "  const cancelPromise = new Promise((resolve) => {\n",
              "    cancel.onclick = () => {\n",
              "      resolve(null);\n",
              "    };\n",
              "  });\n",
              "\n",
              "  // Wait for the user to pick the files.\n",
              "  const files = yield {\n",
              "    promise: Promise.race([pickedPromise, cancelPromise]),\n",
              "    response: {\n",
              "      action: 'starting',\n",
              "    }\n",
              "  };\n",
              "\n",
              "  cancel.remove();\n",
              "\n",
              "  // Disable the input element since further picks are not allowed.\n",
              "  inputElement.disabled = true;\n",
              "\n",
              "  if (!files) {\n",
              "    return {\n",
              "      response: {\n",
              "        action: 'complete',\n",
              "      }\n",
              "    };\n",
              "  }\n",
              "\n",
              "  for (const file of files) {\n",
              "    const li = document.createElement('li');\n",
              "    li.append(span(file.name, {fontWeight: 'bold'}));\n",
              "    li.append(span(\n",
              "        `(${file.type || 'n/a'}) - ${file.size} bytes, ` +\n",
              "        `last modified: ${\n",
              "            file.lastModifiedDate ? file.lastModifiedDate.toLocaleDateString() :\n",
              "                                    'n/a'} - `));\n",
              "    const percent = span('0% done');\n",
              "    li.appendChild(percent);\n",
              "\n",
              "    outputElement.appendChild(li);\n",
              "\n",
              "    const fileDataPromise = new Promise((resolve) => {\n",
              "      const reader = new FileReader();\n",
              "      reader.onload = (e) => {\n",
              "        resolve(e.target.result);\n",
              "      };\n",
              "      reader.readAsArrayBuffer(file);\n",
              "    });\n",
              "    // Wait for the data to be ready.\n",
              "    let fileData = yield {\n",
              "      promise: fileDataPromise,\n",
              "      response: {\n",
              "        action: 'continue',\n",
              "      }\n",
              "    };\n",
              "\n",
              "    // Use a chunked sending to avoid message size limits. See b/62115660.\n",
              "    let position = 0;\n",
              "    do {\n",
              "      const length = Math.min(fileData.byteLength - position, MAX_PAYLOAD_SIZE);\n",
              "      const chunk = new Uint8Array(fileData, position, length);\n",
              "      position += length;\n",
              "\n",
              "      const base64 = btoa(String.fromCharCode.apply(null, chunk));\n",
              "      yield {\n",
              "        response: {\n",
              "          action: 'append',\n",
              "          file: file.name,\n",
              "          data: base64,\n",
              "        },\n",
              "      };\n",
              "\n",
              "      let percentDone = fileData.byteLength === 0 ?\n",
              "          100 :\n",
              "          Math.round((position / fileData.byteLength) * 100);\n",
              "      percent.textContent = `${percentDone}% done`;\n",
              "\n",
              "    } while (position < fileData.byteLength);\n",
              "  }\n",
              "\n",
              "  // All done.\n",
              "  yield {\n",
              "    response: {\n",
              "      action: 'complete',\n",
              "    }\n",
              "  };\n",
              "}\n",
              "\n",
              "scope.google = scope.google || {};\n",
              "scope.google.colab = scope.google.colab || {};\n",
              "scope.google.colab._files = {\n",
              "  _uploadFiles,\n",
              "  _uploadFilesContinue,\n",
              "};\n",
              "})(self);\n",
              "</script> "
            ]
          },
          "metadata": {}
        },
        {
          "output_type": "stream",
          "name": "stdout",
          "text": [
            "Saving cnnindonesia_news_RAW.csv to cnnindonesia_news_RAW.csv\n"
          ]
        }
      ]
    },
    {
      "cell_type": "code",
      "source": [
        "# Deteksi kolom teks\n",
        "candidates = ['isi_berita','isi berita','isi','content','text','article','judul','title','body']\n",
        "found = next((c for c in df.columns if c.lower() in candidates), None)\n",
        "if not found:\n",
        "    found = next((c for c in df.columns if any(k in c.lower() for k in ['isi','isi_berita','text','judul','title','content','article','body'])), None)\n",
        "if not found:\n",
        "    found = next((c for c in df.columns if df[c].dtype == object), None)\n",
        "if not found:\n",
        "    raise SystemExit(\"Tidak menemukan kolom teks. Pastikan ada setidaknya satu kolom teks.\")\n",
        "\n",
        "print(\"File:\", fname)\n",
        "text_col = found\n",
        "df['orig_text_for_preproc'] = df[text_col].astype(str)\n",
        "print(\"\\nContoh teks asli\")\n",
        "display(df[['orig_text_for_preproc']].head(10))"
      ],
      "metadata": {
        "colab": {
          "base_uri": "https://localhost:8080/",
          "height": 415
        },
        "id": "8zvMt2xjtn2H",
        "outputId": "0697c9e1-56d2-4de6-d7a3-6b31227a6ac9"
      },
      "execution_count": null,
      "outputs": [
        {
          "output_type": "stream",
          "name": "stdout",
          "text": [
            "File: cnnindonesia_news_RAW.csv\n",
            "\n",
            "Contoh teks asli\n"
          ]
        },
        {
          "output_type": "display_data",
          "data": {
            "text/plain": [
              "                               orig_text_for_preproc\n",
              "0  Pesan Paskah Uskup Agung Jakarta Kardinal Igna...\n",
              "1  Mike Tyson: Muhammad Ali Ganas seperti T-Rex, ...\n",
              "2  Kulkas SBS Banting Harga Gila-gilaan di Transm...\n",
              "3  Hakim Djuyamto Diduga Titip Rp704 Juta ke Satp...\n",
              "4  Leicester vs Liverpool: Menanti Gol Kaki Kiri ...\n",
              "5  Sepeda Diobral Rp1 Juta di Transmart Full Day ...\n",
              "6  Mungkinkah Arsenal Simpan Tenaga di Liga Inggr...\n",
              "7  Komisi IX DPR: Perusahaan Potong Gaji Karyawan...\n",
              "8  VIDEO: Penampakan Ngeri Pelabuhan Yaman Usai D...\n",
              "9   Perpres Kantor Komunikasi Presiden Digugat ke MA"
            ],
            "text/html": [
              "\n",
              "  <div id=\"df-fba803d2-b055-43b9-b360-337bdc22a940\" class=\"colab-df-container\">\n",
              "    <div>\n",
              "<style scoped>\n",
              "    .dataframe tbody tr th:only-of-type {\n",
              "        vertical-align: middle;\n",
              "    }\n",
              "\n",
              "    .dataframe tbody tr th {\n",
              "        vertical-align: top;\n",
              "    }\n",
              "\n",
              "    .dataframe thead th {\n",
              "        text-align: right;\n",
              "    }\n",
              "</style>\n",
              "<table border=\"1\" class=\"dataframe\">\n",
              "  <thead>\n",
              "    <tr style=\"text-align: right;\">\n",
              "      <th></th>\n",
              "      <th>orig_text_for_preproc</th>\n",
              "    </tr>\n",
              "  </thead>\n",
              "  <tbody>\n",
              "    <tr>\n",
              "      <th>0</th>\n",
              "      <td>Pesan Paskah Uskup Agung Jakarta Kardinal Igna...</td>\n",
              "    </tr>\n",
              "    <tr>\n",
              "      <th>1</th>\n",
              "      <td>Mike Tyson: Muhammad Ali Ganas seperti T-Rex, ...</td>\n",
              "    </tr>\n",
              "    <tr>\n",
              "      <th>2</th>\n",
              "      <td>Kulkas SBS Banting Harga Gila-gilaan di Transm...</td>\n",
              "    </tr>\n",
              "    <tr>\n",
              "      <th>3</th>\n",
              "      <td>Hakim Djuyamto Diduga Titip Rp704 Juta ke Satp...</td>\n",
              "    </tr>\n",
              "    <tr>\n",
              "      <th>4</th>\n",
              "      <td>Leicester vs Liverpool: Menanti Gol Kaki Kiri ...</td>\n",
              "    </tr>\n",
              "    <tr>\n",
              "      <th>5</th>\n",
              "      <td>Sepeda Diobral Rp1 Juta di Transmart Full Day ...</td>\n",
              "    </tr>\n",
              "    <tr>\n",
              "      <th>6</th>\n",
              "      <td>Mungkinkah Arsenal Simpan Tenaga di Liga Inggr...</td>\n",
              "    </tr>\n",
              "    <tr>\n",
              "      <th>7</th>\n",
              "      <td>Komisi IX DPR: Perusahaan Potong Gaji Karyawan...</td>\n",
              "    </tr>\n",
              "    <tr>\n",
              "      <th>8</th>\n",
              "      <td>VIDEO: Penampakan Ngeri Pelabuhan Yaman Usai D...</td>\n",
              "    </tr>\n",
              "    <tr>\n",
              "      <th>9</th>\n",
              "      <td>Perpres Kantor Komunikasi Presiden Digugat ke MA</td>\n",
              "    </tr>\n",
              "  </tbody>\n",
              "</table>\n",
              "</div>\n",
              "    <div class=\"colab-df-buttons\">\n",
              "\n",
              "  <div class=\"colab-df-container\">\n",
              "    <button class=\"colab-df-convert\" onclick=\"convertToInteractive('df-fba803d2-b055-43b9-b360-337bdc22a940')\"\n",
              "            title=\"Convert this dataframe to an interactive table.\"\n",
              "            style=\"display:none;\">\n",
              "\n",
              "  <svg xmlns=\"http://www.w3.org/2000/svg\" height=\"24px\" viewBox=\"0 -960 960 960\">\n",
              "    <path d=\"M120-120v-720h720v720H120Zm60-500h600v-160H180v160Zm220 220h160v-160H400v160Zm0 220h160v-160H400v160ZM180-400h160v-160H180v160Zm440 0h160v-160H620v160ZM180-180h160v-160H180v160Zm440 0h160v-160H620v160Z\"/>\n",
              "  </svg>\n",
              "    </button>\n",
              "\n",
              "  <style>\n",
              "    .colab-df-container {\n",
              "      display:flex;\n",
              "      gap: 12px;\n",
              "    }\n",
              "\n",
              "    .colab-df-convert {\n",
              "      background-color: #E8F0FE;\n",
              "      border: none;\n",
              "      border-radius: 50%;\n",
              "      cursor: pointer;\n",
              "      display: none;\n",
              "      fill: #1967D2;\n",
              "      height: 32px;\n",
              "      padding: 0 0 0 0;\n",
              "      width: 32px;\n",
              "    }\n",
              "\n",
              "    .colab-df-convert:hover {\n",
              "      background-color: #E2EBFA;\n",
              "      box-shadow: 0px 1px 2px rgba(60, 64, 67, 0.3), 0px 1px 3px 1px rgba(60, 64, 67, 0.15);\n",
              "      fill: #174EA6;\n",
              "    }\n",
              "\n",
              "    .colab-df-buttons div {\n",
              "      margin-bottom: 4px;\n",
              "    }\n",
              "\n",
              "    [theme=dark] .colab-df-convert {\n",
              "      background-color: #3B4455;\n",
              "      fill: #D2E3FC;\n",
              "    }\n",
              "\n",
              "    [theme=dark] .colab-df-convert:hover {\n",
              "      background-color: #434B5C;\n",
              "      box-shadow: 0px 1px 3px 1px rgba(0, 0, 0, 0.15);\n",
              "      filter: drop-shadow(0px 1px 2px rgba(0, 0, 0, 0.3));\n",
              "      fill: #FFFFFF;\n",
              "    }\n",
              "  </style>\n",
              "\n",
              "    <script>\n",
              "      const buttonEl =\n",
              "        document.querySelector('#df-fba803d2-b055-43b9-b360-337bdc22a940 button.colab-df-convert');\n",
              "      buttonEl.style.display =\n",
              "        google.colab.kernel.accessAllowed ? 'block' : 'none';\n",
              "\n",
              "      async function convertToInteractive(key) {\n",
              "        const element = document.querySelector('#df-fba803d2-b055-43b9-b360-337bdc22a940');\n",
              "        const dataTable =\n",
              "          await google.colab.kernel.invokeFunction('convertToInteractive',\n",
              "                                                    [key], {});\n",
              "        if (!dataTable) return;\n",
              "\n",
              "        const docLinkHtml = 'Like what you see? Visit the ' +\n",
              "          '<a target=\"_blank\" href=https://colab.research.google.com/notebooks/data_table.ipynb>data table notebook</a>'\n",
              "          + ' to learn more about interactive tables.';\n",
              "        element.innerHTML = '';\n",
              "        dataTable['output_type'] = 'display_data';\n",
              "        await google.colab.output.renderOutput(dataTable, element);\n",
              "        const docLink = document.createElement('div');\n",
              "        docLink.innerHTML = docLinkHtml;\n",
              "        element.appendChild(docLink);\n",
              "      }\n",
              "    </script>\n",
              "  </div>\n",
              "\n",
              "\n",
              "    <div id=\"df-e781c174-6123-4df5-996a-1f153f117819\">\n",
              "      <button class=\"colab-df-quickchart\" onclick=\"quickchart('df-e781c174-6123-4df5-996a-1f153f117819')\"\n",
              "                title=\"Suggest charts\"\n",
              "                style=\"display:none;\">\n",
              "\n",
              "<svg xmlns=\"http://www.w3.org/2000/svg\" height=\"24px\"viewBox=\"0 0 24 24\"\n",
              "     width=\"24px\">\n",
              "    <g>\n",
              "        <path d=\"M19 3H5c-1.1 0-2 .9-2 2v14c0 1.1.9 2 2 2h14c1.1 0 2-.9 2-2V5c0-1.1-.9-2-2-2zM9 17H7v-7h2v7zm4 0h-2V7h2v10zm4 0h-2v-4h2v4z\"/>\n",
              "    </g>\n",
              "</svg>\n",
              "      </button>\n",
              "\n",
              "<style>\n",
              "  .colab-df-quickchart {\n",
              "      --bg-color: #E8F0FE;\n",
              "      --fill-color: #1967D2;\n",
              "      --hover-bg-color: #E2EBFA;\n",
              "      --hover-fill-color: #174EA6;\n",
              "      --disabled-fill-color: #AAA;\n",
              "      --disabled-bg-color: #DDD;\n",
              "  }\n",
              "\n",
              "  [theme=dark] .colab-df-quickchart {\n",
              "      --bg-color: #3B4455;\n",
              "      --fill-color: #D2E3FC;\n",
              "      --hover-bg-color: #434B5C;\n",
              "      --hover-fill-color: #FFFFFF;\n",
              "      --disabled-bg-color: #3B4455;\n",
              "      --disabled-fill-color: #666;\n",
              "  }\n",
              "\n",
              "  .colab-df-quickchart {\n",
              "    background-color: var(--bg-color);\n",
              "    border: none;\n",
              "    border-radius: 50%;\n",
              "    cursor: pointer;\n",
              "    display: none;\n",
              "    fill: var(--fill-color);\n",
              "    height: 32px;\n",
              "    padding: 0;\n",
              "    width: 32px;\n",
              "  }\n",
              "\n",
              "  .colab-df-quickchart:hover {\n",
              "    background-color: var(--hover-bg-color);\n",
              "    box-shadow: 0 1px 2px rgba(60, 64, 67, 0.3), 0 1px 3px 1px rgba(60, 64, 67, 0.15);\n",
              "    fill: var(--button-hover-fill-color);\n",
              "  }\n",
              "\n",
              "  .colab-df-quickchart-complete:disabled,\n",
              "  .colab-df-quickchart-complete:disabled:hover {\n",
              "    background-color: var(--disabled-bg-color);\n",
              "    fill: var(--disabled-fill-color);\n",
              "    box-shadow: none;\n",
              "  }\n",
              "\n",
              "  .colab-df-spinner {\n",
              "    border: 2px solid var(--fill-color);\n",
              "    border-color: transparent;\n",
              "    border-bottom-color: var(--fill-color);\n",
              "    animation:\n",
              "      spin 1s steps(1) infinite;\n",
              "  }\n",
              "\n",
              "  @keyframes spin {\n",
              "    0% {\n",
              "      border-color: transparent;\n",
              "      border-bottom-color: var(--fill-color);\n",
              "      border-left-color: var(--fill-color);\n",
              "    }\n",
              "    20% {\n",
              "      border-color: transparent;\n",
              "      border-left-color: var(--fill-color);\n",
              "      border-top-color: var(--fill-color);\n",
              "    }\n",
              "    30% {\n",
              "      border-color: transparent;\n",
              "      border-left-color: var(--fill-color);\n",
              "      border-top-color: var(--fill-color);\n",
              "      border-right-color: var(--fill-color);\n",
              "    }\n",
              "    40% {\n",
              "      border-color: transparent;\n",
              "      border-right-color: var(--fill-color);\n",
              "      border-top-color: var(--fill-color);\n",
              "    }\n",
              "    60% {\n",
              "      border-color: transparent;\n",
              "      border-right-color: var(--fill-color);\n",
              "    }\n",
              "    80% {\n",
              "      border-color: transparent;\n",
              "      border-right-color: var(--fill-color);\n",
              "      border-bottom-color: var(--fill-color);\n",
              "    }\n",
              "    90% {\n",
              "      border-color: transparent;\n",
              "      border-bottom-color: var(--fill-color);\n",
              "    }\n",
              "  }\n",
              "</style>\n",
              "\n",
              "      <script>\n",
              "        async function quickchart(key) {\n",
              "          const quickchartButtonEl =\n",
              "            document.querySelector('#' + key + ' button');\n",
              "          quickchartButtonEl.disabled = true;  // To prevent multiple clicks.\n",
              "          quickchartButtonEl.classList.add('colab-df-spinner');\n",
              "          try {\n",
              "            const charts = await google.colab.kernel.invokeFunction(\n",
              "                'suggestCharts', [key], {});\n",
              "          } catch (error) {\n",
              "            console.error('Error during call to suggestCharts:', error);\n",
              "          }\n",
              "          quickchartButtonEl.classList.remove('colab-df-spinner');\n",
              "          quickchartButtonEl.classList.add('colab-df-quickchart-complete');\n",
              "        }\n",
              "        (() => {\n",
              "          let quickchartButtonEl =\n",
              "            document.querySelector('#df-e781c174-6123-4df5-996a-1f153f117819 button');\n",
              "          quickchartButtonEl.style.display =\n",
              "            google.colab.kernel.accessAllowed ? 'block' : 'none';\n",
              "        })();\n",
              "      </script>\n",
              "    </div>\n",
              "\n",
              "    </div>\n",
              "  </div>\n"
            ],
            "application/vnd.google.colaboratory.intrinsic+json": {
              "type": "dataframe",
              "summary": "{\n  \"name\": \"display(df[['orig_text_for_preproc']]\",\n  \"rows\": 10,\n  \"fields\": [\n    {\n      \"column\": \"orig_text_for_preproc\",\n      \"properties\": {\n        \"dtype\": \"string\",\n        \"num_unique_values\": 10,\n        \"samples\": [\n          \"VIDEO: Penampakan Ngeri Pelabuhan Yaman Usai Dibombardir AS, 80 Tewas\",\n          \"Mike Tyson: Muhammad Ali Ganas seperti T-Rex, tapi Sangat Tampan\",\n          \"Sepeda Diobral Rp1 Juta di Transmart Full Day Sale Hari Ini, Mau?\"\n        ],\n        \"semantic_type\": \"\",\n        \"description\": \"\"\n      }\n    }\n  ]\n}"
            }
          },
          "metadata": {}
        }
      ]
    },
    {
      "cell_type": "code",
      "source": [
        "# 1) Case Folding\n",
        "df['casefold_sebelum'] = df['orig_text_for_preproc']\n",
        "df['casefold_sesudah'] = df['casefold_sebelum'].str.lower()\n",
        "print(\"CASE FOLDING\")\n",
        "display(df[['casefold_sebelum','casefold_sesudah']].head(10))"
      ],
      "metadata": {
        "colab": {
          "base_uri": "https://localhost:8080/",
          "height": 380
        },
        "id": "3V71X6astrTX",
        "outputId": "189c5d19-09c0-4e6d-bc3c-4dcd5f96e320"
      },
      "execution_count": null,
      "outputs": [
        {
          "output_type": "stream",
          "name": "stdout",
          "text": [
            "CASE FOLDING\n"
          ]
        },
        {
          "output_type": "display_data",
          "data": {
            "text/plain": [
              "                                    casefold_sebelum  \\\n",
              "0  Pesan Paskah Uskup Agung Jakarta Kardinal Igna...   \n",
              "1  Mike Tyson: Muhammad Ali Ganas seperti T-Rex, ...   \n",
              "2  Kulkas SBS Banting Harga Gila-gilaan di Transm...   \n",
              "3  Hakim Djuyamto Diduga Titip Rp704 Juta ke Satp...   \n",
              "4  Leicester vs Liverpool: Menanti Gol Kaki Kiri ...   \n",
              "5  Sepeda Diobral Rp1 Juta di Transmart Full Day ...   \n",
              "6  Mungkinkah Arsenal Simpan Tenaga di Liga Inggr...   \n",
              "7  Komisi IX DPR: Perusahaan Potong Gaji Karyawan...   \n",
              "8  VIDEO: Penampakan Ngeri Pelabuhan Yaman Usai D...   \n",
              "9   Perpres Kantor Komunikasi Presiden Digugat ke MA   \n",
              "\n",
              "                                    casefold_sesudah  \n",
              "0  pesan paskah uskup agung jakarta kardinal igna...  \n",
              "1  mike tyson: muhammad ali ganas seperti t-rex, ...  \n",
              "2  kulkas sbs banting harga gila-gilaan di transm...  \n",
              "3  hakim djuyamto diduga titip rp704 juta ke satp...  \n",
              "4  leicester vs liverpool: menanti gol kaki kiri ...  \n",
              "5  sepeda diobral rp1 juta di transmart full day ...  \n",
              "6  mungkinkah arsenal simpan tenaga di liga inggr...  \n",
              "7  komisi ix dpr: perusahaan potong gaji karyawan...  \n",
              "8  video: penampakan ngeri pelabuhan yaman usai d...  \n",
              "9   perpres kantor komunikasi presiden digugat ke ma  "
            ],
            "text/html": [
              "\n",
              "  <div id=\"df-6362f34d-a2fb-40e7-ae28-f086a2785c93\" class=\"colab-df-container\">\n",
              "    <div>\n",
              "<style scoped>\n",
              "    .dataframe tbody tr th:only-of-type {\n",
              "        vertical-align: middle;\n",
              "    }\n",
              "\n",
              "    .dataframe tbody tr th {\n",
              "        vertical-align: top;\n",
              "    }\n",
              "\n",
              "    .dataframe thead th {\n",
              "        text-align: right;\n",
              "    }\n",
              "</style>\n",
              "<table border=\"1\" class=\"dataframe\">\n",
              "  <thead>\n",
              "    <tr style=\"text-align: right;\">\n",
              "      <th></th>\n",
              "      <th>casefold_sebelum</th>\n",
              "      <th>casefold_sesudah</th>\n",
              "    </tr>\n",
              "  </thead>\n",
              "  <tbody>\n",
              "    <tr>\n",
              "      <th>0</th>\n",
              "      <td>Pesan Paskah Uskup Agung Jakarta Kardinal Igna...</td>\n",
              "      <td>pesan paskah uskup agung jakarta kardinal igna...</td>\n",
              "    </tr>\n",
              "    <tr>\n",
              "      <th>1</th>\n",
              "      <td>Mike Tyson: Muhammad Ali Ganas seperti T-Rex, ...</td>\n",
              "      <td>mike tyson: muhammad ali ganas seperti t-rex, ...</td>\n",
              "    </tr>\n",
              "    <tr>\n",
              "      <th>2</th>\n",
              "      <td>Kulkas SBS Banting Harga Gila-gilaan di Transm...</td>\n",
              "      <td>kulkas sbs banting harga gila-gilaan di transm...</td>\n",
              "    </tr>\n",
              "    <tr>\n",
              "      <th>3</th>\n",
              "      <td>Hakim Djuyamto Diduga Titip Rp704 Juta ke Satp...</td>\n",
              "      <td>hakim djuyamto diduga titip rp704 juta ke satp...</td>\n",
              "    </tr>\n",
              "    <tr>\n",
              "      <th>4</th>\n",
              "      <td>Leicester vs Liverpool: Menanti Gol Kaki Kiri ...</td>\n",
              "      <td>leicester vs liverpool: menanti gol kaki kiri ...</td>\n",
              "    </tr>\n",
              "    <tr>\n",
              "      <th>5</th>\n",
              "      <td>Sepeda Diobral Rp1 Juta di Transmart Full Day ...</td>\n",
              "      <td>sepeda diobral rp1 juta di transmart full day ...</td>\n",
              "    </tr>\n",
              "    <tr>\n",
              "      <th>6</th>\n",
              "      <td>Mungkinkah Arsenal Simpan Tenaga di Liga Inggr...</td>\n",
              "      <td>mungkinkah arsenal simpan tenaga di liga inggr...</td>\n",
              "    </tr>\n",
              "    <tr>\n",
              "      <th>7</th>\n",
              "      <td>Komisi IX DPR: Perusahaan Potong Gaji Karyawan...</td>\n",
              "      <td>komisi ix dpr: perusahaan potong gaji karyawan...</td>\n",
              "    </tr>\n",
              "    <tr>\n",
              "      <th>8</th>\n",
              "      <td>VIDEO: Penampakan Ngeri Pelabuhan Yaman Usai D...</td>\n",
              "      <td>video: penampakan ngeri pelabuhan yaman usai d...</td>\n",
              "    </tr>\n",
              "    <tr>\n",
              "      <th>9</th>\n",
              "      <td>Perpres Kantor Komunikasi Presiden Digugat ke MA</td>\n",
              "      <td>perpres kantor komunikasi presiden digugat ke ma</td>\n",
              "    </tr>\n",
              "  </tbody>\n",
              "</table>\n",
              "</div>\n",
              "    <div class=\"colab-df-buttons\">\n",
              "\n",
              "  <div class=\"colab-df-container\">\n",
              "    <button class=\"colab-df-convert\" onclick=\"convertToInteractive('df-6362f34d-a2fb-40e7-ae28-f086a2785c93')\"\n",
              "            title=\"Convert this dataframe to an interactive table.\"\n",
              "            style=\"display:none;\">\n",
              "\n",
              "  <svg xmlns=\"http://www.w3.org/2000/svg\" height=\"24px\" viewBox=\"0 -960 960 960\">\n",
              "    <path d=\"M120-120v-720h720v720H120Zm60-500h600v-160H180v160Zm220 220h160v-160H400v160Zm0 220h160v-160H400v160ZM180-400h160v-160H180v160Zm440 0h160v-160H620v160ZM180-180h160v-160H180v160Zm440 0h160v-160H620v160Z\"/>\n",
              "  </svg>\n",
              "    </button>\n",
              "\n",
              "  <style>\n",
              "    .colab-df-container {\n",
              "      display:flex;\n",
              "      gap: 12px;\n",
              "    }\n",
              "\n",
              "    .colab-df-convert {\n",
              "      background-color: #E8F0FE;\n",
              "      border: none;\n",
              "      border-radius: 50%;\n",
              "      cursor: pointer;\n",
              "      display: none;\n",
              "      fill: #1967D2;\n",
              "      height: 32px;\n",
              "      padding: 0 0 0 0;\n",
              "      width: 32px;\n",
              "    }\n",
              "\n",
              "    .colab-df-convert:hover {\n",
              "      background-color: #E2EBFA;\n",
              "      box-shadow: 0px 1px 2px rgba(60, 64, 67, 0.3), 0px 1px 3px 1px rgba(60, 64, 67, 0.15);\n",
              "      fill: #174EA6;\n",
              "    }\n",
              "\n",
              "    .colab-df-buttons div {\n",
              "      margin-bottom: 4px;\n",
              "    }\n",
              "\n",
              "    [theme=dark] .colab-df-convert {\n",
              "      background-color: #3B4455;\n",
              "      fill: #D2E3FC;\n",
              "    }\n",
              "\n",
              "    [theme=dark] .colab-df-convert:hover {\n",
              "      background-color: #434B5C;\n",
              "      box-shadow: 0px 1px 3px 1px rgba(0, 0, 0, 0.15);\n",
              "      filter: drop-shadow(0px 1px 2px rgba(0, 0, 0, 0.3));\n",
              "      fill: #FFFFFF;\n",
              "    }\n",
              "  </style>\n",
              "\n",
              "    <script>\n",
              "      const buttonEl =\n",
              "        document.querySelector('#df-6362f34d-a2fb-40e7-ae28-f086a2785c93 button.colab-df-convert');\n",
              "      buttonEl.style.display =\n",
              "        google.colab.kernel.accessAllowed ? 'block' : 'none';\n",
              "\n",
              "      async function convertToInteractive(key) {\n",
              "        const element = document.querySelector('#df-6362f34d-a2fb-40e7-ae28-f086a2785c93');\n",
              "        const dataTable =\n",
              "          await google.colab.kernel.invokeFunction('convertToInteractive',\n",
              "                                                    [key], {});\n",
              "        if (!dataTable) return;\n",
              "\n",
              "        const docLinkHtml = 'Like what you see? Visit the ' +\n",
              "          '<a target=\"_blank\" href=https://colab.research.google.com/notebooks/data_table.ipynb>data table notebook</a>'\n",
              "          + ' to learn more about interactive tables.';\n",
              "        element.innerHTML = '';\n",
              "        dataTable['output_type'] = 'display_data';\n",
              "        await google.colab.output.renderOutput(dataTable, element);\n",
              "        const docLink = document.createElement('div');\n",
              "        docLink.innerHTML = docLinkHtml;\n",
              "        element.appendChild(docLink);\n",
              "      }\n",
              "    </script>\n",
              "  </div>\n",
              "\n",
              "\n",
              "    <div id=\"df-299e3d02-97c3-4400-8647-54e050f96486\">\n",
              "      <button class=\"colab-df-quickchart\" onclick=\"quickchart('df-299e3d02-97c3-4400-8647-54e050f96486')\"\n",
              "                title=\"Suggest charts\"\n",
              "                style=\"display:none;\">\n",
              "\n",
              "<svg xmlns=\"http://www.w3.org/2000/svg\" height=\"24px\"viewBox=\"0 0 24 24\"\n",
              "     width=\"24px\">\n",
              "    <g>\n",
              "        <path d=\"M19 3H5c-1.1 0-2 .9-2 2v14c0 1.1.9 2 2 2h14c1.1 0 2-.9 2-2V5c0-1.1-.9-2-2-2zM9 17H7v-7h2v7zm4 0h-2V7h2v10zm4 0h-2v-4h2v4z\"/>\n",
              "    </g>\n",
              "</svg>\n",
              "      </button>\n",
              "\n",
              "<style>\n",
              "  .colab-df-quickchart {\n",
              "      --bg-color: #E8F0FE;\n",
              "      --fill-color: #1967D2;\n",
              "      --hover-bg-color: #E2EBFA;\n",
              "      --hover-fill-color: #174EA6;\n",
              "      --disabled-fill-color: #AAA;\n",
              "      --disabled-bg-color: #DDD;\n",
              "  }\n",
              "\n",
              "  [theme=dark] .colab-df-quickchart {\n",
              "      --bg-color: #3B4455;\n",
              "      --fill-color: #D2E3FC;\n",
              "      --hover-bg-color: #434B5C;\n",
              "      --hover-fill-color: #FFFFFF;\n",
              "      --disabled-bg-color: #3B4455;\n",
              "      --disabled-fill-color: #666;\n",
              "  }\n",
              "\n",
              "  .colab-df-quickchart {\n",
              "    background-color: var(--bg-color);\n",
              "    border: none;\n",
              "    border-radius: 50%;\n",
              "    cursor: pointer;\n",
              "    display: none;\n",
              "    fill: var(--fill-color);\n",
              "    height: 32px;\n",
              "    padding: 0;\n",
              "    width: 32px;\n",
              "  }\n",
              "\n",
              "  .colab-df-quickchart:hover {\n",
              "    background-color: var(--hover-bg-color);\n",
              "    box-shadow: 0 1px 2px rgba(60, 64, 67, 0.3), 0 1px 3px 1px rgba(60, 64, 67, 0.15);\n",
              "    fill: var(--button-hover-fill-color);\n",
              "  }\n",
              "\n",
              "  .colab-df-quickchart-complete:disabled,\n",
              "  .colab-df-quickchart-complete:disabled:hover {\n",
              "    background-color: var(--disabled-bg-color);\n",
              "    fill: var(--disabled-fill-color);\n",
              "    box-shadow: none;\n",
              "  }\n",
              "\n",
              "  .colab-df-spinner {\n",
              "    border: 2px solid var(--fill-color);\n",
              "    border-color: transparent;\n",
              "    border-bottom-color: var(--fill-color);\n",
              "    animation:\n",
              "      spin 1s steps(1) infinite;\n",
              "  }\n",
              "\n",
              "  @keyframes spin {\n",
              "    0% {\n",
              "      border-color: transparent;\n",
              "      border-bottom-color: var(--fill-color);\n",
              "      border-left-color: var(--fill-color);\n",
              "    }\n",
              "    20% {\n",
              "      border-color: transparent;\n",
              "      border-left-color: var(--fill-color);\n",
              "      border-top-color: var(--fill-color);\n",
              "    }\n",
              "    30% {\n",
              "      border-color: transparent;\n",
              "      border-left-color: var(--fill-color);\n",
              "      border-top-color: var(--fill-color);\n",
              "      border-right-color: var(--fill-color);\n",
              "    }\n",
              "    40% {\n",
              "      border-color: transparent;\n",
              "      border-right-color: var(--fill-color);\n",
              "      border-top-color: var(--fill-color);\n",
              "    }\n",
              "    60% {\n",
              "      border-color: transparent;\n",
              "      border-right-color: var(--fill-color);\n",
              "    }\n",
              "    80% {\n",
              "      border-color: transparent;\n",
              "      border-right-color: var(--fill-color);\n",
              "      border-bottom-color: var(--fill-color);\n",
              "    }\n",
              "    90% {\n",
              "      border-color: transparent;\n",
              "      border-bottom-color: var(--fill-color);\n",
              "    }\n",
              "  }\n",
              "</style>\n",
              "\n",
              "      <script>\n",
              "        async function quickchart(key) {\n",
              "          const quickchartButtonEl =\n",
              "            document.querySelector('#' + key + ' button');\n",
              "          quickchartButtonEl.disabled = true;  // To prevent multiple clicks.\n",
              "          quickchartButtonEl.classList.add('colab-df-spinner');\n",
              "          try {\n",
              "            const charts = await google.colab.kernel.invokeFunction(\n",
              "                'suggestCharts', [key], {});\n",
              "          } catch (error) {\n",
              "            console.error('Error during call to suggestCharts:', error);\n",
              "          }\n",
              "          quickchartButtonEl.classList.remove('colab-df-spinner');\n",
              "          quickchartButtonEl.classList.add('colab-df-quickchart-complete');\n",
              "        }\n",
              "        (() => {\n",
              "          let quickchartButtonEl =\n",
              "            document.querySelector('#df-299e3d02-97c3-4400-8647-54e050f96486 button');\n",
              "          quickchartButtonEl.style.display =\n",
              "            google.colab.kernel.accessAllowed ? 'block' : 'none';\n",
              "        })();\n",
              "      </script>\n",
              "    </div>\n",
              "\n",
              "    </div>\n",
              "  </div>\n"
            ],
            "application/vnd.google.colaboratory.intrinsic+json": {
              "type": "dataframe",
              "summary": "{\n  \"name\": \"display(df[['casefold_sebelum','casefold_sesudah']]\",\n  \"rows\": 10,\n  \"fields\": [\n    {\n      \"column\": \"casefold_sebelum\",\n      \"properties\": {\n        \"dtype\": \"string\",\n        \"num_unique_values\": 10,\n        \"samples\": [\n          \"VIDEO: Penampakan Ngeri Pelabuhan Yaman Usai Dibombardir AS, 80 Tewas\",\n          \"Mike Tyson: Muhammad Ali Ganas seperti T-Rex, tapi Sangat Tampan\",\n          \"Sepeda Diobral Rp1 Juta di Transmart Full Day Sale Hari Ini, Mau?\"\n        ],\n        \"semantic_type\": \"\",\n        \"description\": \"\"\n      }\n    },\n    {\n      \"column\": \"casefold_sesudah\",\n      \"properties\": {\n        \"dtype\": \"string\",\n        \"num_unique_values\": 10,\n        \"samples\": [\n          \"video: penampakan ngeri pelabuhan yaman usai dibombardir as, 80 tewas\",\n          \"mike tyson: muhammad ali ganas seperti t-rex, tapi sangat tampan\",\n          \"sepeda diobral rp1 juta di transmart full day sale hari ini, mau?\"\n        ],\n        \"semantic_type\": \"\",\n        \"description\": \"\"\n      }\n    }\n  ]\n}"
            }
          },
          "metadata": {}
        }
      ]
    },
    {
      "cell_type": "code",
      "source": [
        "# 2) Hapus karakter khusus (ganti non-word jadi spasi)\n",
        "df['hapus_karakter_sebelum'] = df['casefold_sesudah']\n",
        "# gunakan vectorized str.replace; pastikan tipe string\n",
        "df['nospecials_sesudah'] = (df['hapus_karakter_sebelum']\n",
        "                            .fillna('')\n",
        "                            .astype(str)\n",
        "                            .str.replace(r'[^\\w\\s]', ' ', regex=True)\n",
        "                            .str.replace('_', ' '))\n",
        "print(\"HAPUS KARAKTER KHUSUS\")\n",
        "display(df[['hapus_karakter_sebelum','nospecials_sesudah']].head(10))"
      ],
      "metadata": {
        "colab": {
          "base_uri": "https://localhost:8080/",
          "height": 380
        },
        "id": "hiAcEgVPtvIn",
        "outputId": "210ee7ff-3ae2-4dc2-9451-0b7a75864991"
      },
      "execution_count": null,
      "outputs": [
        {
          "output_type": "stream",
          "name": "stdout",
          "text": [
            "HAPUS KARAKTER KHUSUS\n"
          ]
        },
        {
          "output_type": "display_data",
          "data": {
            "text/plain": [
              "                              hapus_karakter_sebelum  \\\n",
              "0  pesan paskah uskup agung jakarta kardinal igna...   \n",
              "1  mike tyson: muhammad ali ganas seperti t-rex, ...   \n",
              "2  kulkas sbs banting harga gila-gilaan di transm...   \n",
              "3  hakim djuyamto diduga titip rp704 juta ke satp...   \n",
              "4  leicester vs liverpool: menanti gol kaki kiri ...   \n",
              "5  sepeda diobral rp1 juta di transmart full day ...   \n",
              "6  mungkinkah arsenal simpan tenaga di liga inggr...   \n",
              "7  komisi ix dpr: perusahaan potong gaji karyawan...   \n",
              "8  video: penampakan ngeri pelabuhan yaman usai d...   \n",
              "9   perpres kantor komunikasi presiden digugat ke ma   \n",
              "\n",
              "                                  nospecials_sesudah  \n",
              "0  pesan paskah uskup agung jakarta kardinal igna...  \n",
              "1  mike tyson  muhammad ali ganas seperti t rex  ...  \n",
              "2  kulkas sbs banting harga gila gilaan di transm...  \n",
              "3  hakim djuyamto diduga titip rp704 juta ke satp...  \n",
              "4  leicester vs liverpool  menanti gol kaki kiri ...  \n",
              "5  sepeda diobral rp1 juta di transmart full day ...  \n",
              "6  mungkinkah arsenal simpan tenaga di liga inggr...  \n",
              "7  komisi ix dpr  perusahaan potong gaji karyawan...  \n",
              "8  video  penampakan ngeri pelabuhan yaman usai d...  \n",
              "9   perpres kantor komunikasi presiden digugat ke ma  "
            ],
            "text/html": [
              "\n",
              "  <div id=\"df-75d57921-6ee2-44ec-9686-6eb87d7f4fda\" class=\"colab-df-container\">\n",
              "    <div>\n",
              "<style scoped>\n",
              "    .dataframe tbody tr th:only-of-type {\n",
              "        vertical-align: middle;\n",
              "    }\n",
              "\n",
              "    .dataframe tbody tr th {\n",
              "        vertical-align: top;\n",
              "    }\n",
              "\n",
              "    .dataframe thead th {\n",
              "        text-align: right;\n",
              "    }\n",
              "</style>\n",
              "<table border=\"1\" class=\"dataframe\">\n",
              "  <thead>\n",
              "    <tr style=\"text-align: right;\">\n",
              "      <th></th>\n",
              "      <th>hapus_karakter_sebelum</th>\n",
              "      <th>nospecials_sesudah</th>\n",
              "    </tr>\n",
              "  </thead>\n",
              "  <tbody>\n",
              "    <tr>\n",
              "      <th>0</th>\n",
              "      <td>pesan paskah uskup agung jakarta kardinal igna...</td>\n",
              "      <td>pesan paskah uskup agung jakarta kardinal igna...</td>\n",
              "    </tr>\n",
              "    <tr>\n",
              "      <th>1</th>\n",
              "      <td>mike tyson: muhammad ali ganas seperti t-rex, ...</td>\n",
              "      <td>mike tyson  muhammad ali ganas seperti t rex  ...</td>\n",
              "    </tr>\n",
              "    <tr>\n",
              "      <th>2</th>\n",
              "      <td>kulkas sbs banting harga gila-gilaan di transm...</td>\n",
              "      <td>kulkas sbs banting harga gila gilaan di transm...</td>\n",
              "    </tr>\n",
              "    <tr>\n",
              "      <th>3</th>\n",
              "      <td>hakim djuyamto diduga titip rp704 juta ke satp...</td>\n",
              "      <td>hakim djuyamto diduga titip rp704 juta ke satp...</td>\n",
              "    </tr>\n",
              "    <tr>\n",
              "      <th>4</th>\n",
              "      <td>leicester vs liverpool: menanti gol kaki kiri ...</td>\n",
              "      <td>leicester vs liverpool  menanti gol kaki kiri ...</td>\n",
              "    </tr>\n",
              "    <tr>\n",
              "      <th>5</th>\n",
              "      <td>sepeda diobral rp1 juta di transmart full day ...</td>\n",
              "      <td>sepeda diobral rp1 juta di transmart full day ...</td>\n",
              "    </tr>\n",
              "    <tr>\n",
              "      <th>6</th>\n",
              "      <td>mungkinkah arsenal simpan tenaga di liga inggr...</td>\n",
              "      <td>mungkinkah arsenal simpan tenaga di liga inggr...</td>\n",
              "    </tr>\n",
              "    <tr>\n",
              "      <th>7</th>\n",
              "      <td>komisi ix dpr: perusahaan potong gaji karyawan...</td>\n",
              "      <td>komisi ix dpr  perusahaan potong gaji karyawan...</td>\n",
              "    </tr>\n",
              "    <tr>\n",
              "      <th>8</th>\n",
              "      <td>video: penampakan ngeri pelabuhan yaman usai d...</td>\n",
              "      <td>video  penampakan ngeri pelabuhan yaman usai d...</td>\n",
              "    </tr>\n",
              "    <tr>\n",
              "      <th>9</th>\n",
              "      <td>perpres kantor komunikasi presiden digugat ke ma</td>\n",
              "      <td>perpres kantor komunikasi presiden digugat ke ma</td>\n",
              "    </tr>\n",
              "  </tbody>\n",
              "</table>\n",
              "</div>\n",
              "    <div class=\"colab-df-buttons\">\n",
              "\n",
              "  <div class=\"colab-df-container\">\n",
              "    <button class=\"colab-df-convert\" onclick=\"convertToInteractive('df-75d57921-6ee2-44ec-9686-6eb87d7f4fda')\"\n",
              "            title=\"Convert this dataframe to an interactive table.\"\n",
              "            style=\"display:none;\">\n",
              "\n",
              "  <svg xmlns=\"http://www.w3.org/2000/svg\" height=\"24px\" viewBox=\"0 -960 960 960\">\n",
              "    <path d=\"M120-120v-720h720v720H120Zm60-500h600v-160H180v160Zm220 220h160v-160H400v160Zm0 220h160v-160H400v160ZM180-400h160v-160H180v160Zm440 0h160v-160H620v160ZM180-180h160v-160H180v160Zm440 0h160v-160H620v160Z\"/>\n",
              "  </svg>\n",
              "    </button>\n",
              "\n",
              "  <style>\n",
              "    .colab-df-container {\n",
              "      display:flex;\n",
              "      gap: 12px;\n",
              "    }\n",
              "\n",
              "    .colab-df-convert {\n",
              "      background-color: #E8F0FE;\n",
              "      border: none;\n",
              "      border-radius: 50%;\n",
              "      cursor: pointer;\n",
              "      display: none;\n",
              "      fill: #1967D2;\n",
              "      height: 32px;\n",
              "      padding: 0 0 0 0;\n",
              "      width: 32px;\n",
              "    }\n",
              "\n",
              "    .colab-df-convert:hover {\n",
              "      background-color: #E2EBFA;\n",
              "      box-shadow: 0px 1px 2px rgba(60, 64, 67, 0.3), 0px 1px 3px 1px rgba(60, 64, 67, 0.15);\n",
              "      fill: #174EA6;\n",
              "    }\n",
              "\n",
              "    .colab-df-buttons div {\n",
              "      margin-bottom: 4px;\n",
              "    }\n",
              "\n",
              "    [theme=dark] .colab-df-convert {\n",
              "      background-color: #3B4455;\n",
              "      fill: #D2E3FC;\n",
              "    }\n",
              "\n",
              "    [theme=dark] .colab-df-convert:hover {\n",
              "      background-color: #434B5C;\n",
              "      box-shadow: 0px 1px 3px 1px rgba(0, 0, 0, 0.15);\n",
              "      filter: drop-shadow(0px 1px 2px rgba(0, 0, 0, 0.3));\n",
              "      fill: #FFFFFF;\n",
              "    }\n",
              "  </style>\n",
              "\n",
              "    <script>\n",
              "      const buttonEl =\n",
              "        document.querySelector('#df-75d57921-6ee2-44ec-9686-6eb87d7f4fda button.colab-df-convert');\n",
              "      buttonEl.style.display =\n",
              "        google.colab.kernel.accessAllowed ? 'block' : 'none';\n",
              "\n",
              "      async function convertToInteractive(key) {\n",
              "        const element = document.querySelector('#df-75d57921-6ee2-44ec-9686-6eb87d7f4fda');\n",
              "        const dataTable =\n",
              "          await google.colab.kernel.invokeFunction('convertToInteractive',\n",
              "                                                    [key], {});\n",
              "        if (!dataTable) return;\n",
              "\n",
              "        const docLinkHtml = 'Like what you see? Visit the ' +\n",
              "          '<a target=\"_blank\" href=https://colab.research.google.com/notebooks/data_table.ipynb>data table notebook</a>'\n",
              "          + ' to learn more about interactive tables.';\n",
              "        element.innerHTML = '';\n",
              "        dataTable['output_type'] = 'display_data';\n",
              "        await google.colab.output.renderOutput(dataTable, element);\n",
              "        const docLink = document.createElement('div');\n",
              "        docLink.innerHTML = docLinkHtml;\n",
              "        element.appendChild(docLink);\n",
              "      }\n",
              "    </script>\n",
              "  </div>\n",
              "\n",
              "\n",
              "    <div id=\"df-4f3835f8-407b-4f46-9a8c-859bf209d0fa\">\n",
              "      <button class=\"colab-df-quickchart\" onclick=\"quickchart('df-4f3835f8-407b-4f46-9a8c-859bf209d0fa')\"\n",
              "                title=\"Suggest charts\"\n",
              "                style=\"display:none;\">\n",
              "\n",
              "<svg xmlns=\"http://www.w3.org/2000/svg\" height=\"24px\"viewBox=\"0 0 24 24\"\n",
              "     width=\"24px\">\n",
              "    <g>\n",
              "        <path d=\"M19 3H5c-1.1 0-2 .9-2 2v14c0 1.1.9 2 2 2h14c1.1 0 2-.9 2-2V5c0-1.1-.9-2-2-2zM9 17H7v-7h2v7zm4 0h-2V7h2v10zm4 0h-2v-4h2v4z\"/>\n",
              "    </g>\n",
              "</svg>\n",
              "      </button>\n",
              "\n",
              "<style>\n",
              "  .colab-df-quickchart {\n",
              "      --bg-color: #E8F0FE;\n",
              "      --fill-color: #1967D2;\n",
              "      --hover-bg-color: #E2EBFA;\n",
              "      --hover-fill-color: #174EA6;\n",
              "      --disabled-fill-color: #AAA;\n",
              "      --disabled-bg-color: #DDD;\n",
              "  }\n",
              "\n",
              "  [theme=dark] .colab-df-quickchart {\n",
              "      --bg-color: #3B4455;\n",
              "      --fill-color: #D2E3FC;\n",
              "      --hover-bg-color: #434B5C;\n",
              "      --hover-fill-color: #FFFFFF;\n",
              "      --disabled-bg-color: #3B4455;\n",
              "      --disabled-fill-color: #666;\n",
              "  }\n",
              "\n",
              "  .colab-df-quickchart {\n",
              "    background-color: var(--bg-color);\n",
              "    border: none;\n",
              "    border-radius: 50%;\n",
              "    cursor: pointer;\n",
              "    display: none;\n",
              "    fill: var(--fill-color);\n",
              "    height: 32px;\n",
              "    padding: 0;\n",
              "    width: 32px;\n",
              "  }\n",
              "\n",
              "  .colab-df-quickchart:hover {\n",
              "    background-color: var(--hover-bg-color);\n",
              "    box-shadow: 0 1px 2px rgba(60, 64, 67, 0.3), 0 1px 3px 1px rgba(60, 64, 67, 0.15);\n",
              "    fill: var(--button-hover-fill-color);\n",
              "  }\n",
              "\n",
              "  .colab-df-quickchart-complete:disabled,\n",
              "  .colab-df-quickchart-complete:disabled:hover {\n",
              "    background-color: var(--disabled-bg-color);\n",
              "    fill: var(--disabled-fill-color);\n",
              "    box-shadow: none;\n",
              "  }\n",
              "\n",
              "  .colab-df-spinner {\n",
              "    border: 2px solid var(--fill-color);\n",
              "    border-color: transparent;\n",
              "    border-bottom-color: var(--fill-color);\n",
              "    animation:\n",
              "      spin 1s steps(1) infinite;\n",
              "  }\n",
              "\n",
              "  @keyframes spin {\n",
              "    0% {\n",
              "      border-color: transparent;\n",
              "      border-bottom-color: var(--fill-color);\n",
              "      border-left-color: var(--fill-color);\n",
              "    }\n",
              "    20% {\n",
              "      border-color: transparent;\n",
              "      border-left-color: var(--fill-color);\n",
              "      border-top-color: var(--fill-color);\n",
              "    }\n",
              "    30% {\n",
              "      border-color: transparent;\n",
              "      border-left-color: var(--fill-color);\n",
              "      border-top-color: var(--fill-color);\n",
              "      border-right-color: var(--fill-color);\n",
              "    }\n",
              "    40% {\n",
              "      border-color: transparent;\n",
              "      border-right-color: var(--fill-color);\n",
              "      border-top-color: var(--fill-color);\n",
              "    }\n",
              "    60% {\n",
              "      border-color: transparent;\n",
              "      border-right-color: var(--fill-color);\n",
              "    }\n",
              "    80% {\n",
              "      border-color: transparent;\n",
              "      border-right-color: var(--fill-color);\n",
              "      border-bottom-color: var(--fill-color);\n",
              "    }\n",
              "    90% {\n",
              "      border-color: transparent;\n",
              "      border-bottom-color: var(--fill-color);\n",
              "    }\n",
              "  }\n",
              "</style>\n",
              "\n",
              "      <script>\n",
              "        async function quickchart(key) {\n",
              "          const quickchartButtonEl =\n",
              "            document.querySelector('#' + key + ' button');\n",
              "          quickchartButtonEl.disabled = true;  // To prevent multiple clicks.\n",
              "          quickchartButtonEl.classList.add('colab-df-spinner');\n",
              "          try {\n",
              "            const charts = await google.colab.kernel.invokeFunction(\n",
              "                'suggestCharts', [key], {});\n",
              "          } catch (error) {\n",
              "            console.error('Error during call to suggestCharts:', error);\n",
              "          }\n",
              "          quickchartButtonEl.classList.remove('colab-df-spinner');\n",
              "          quickchartButtonEl.classList.add('colab-df-quickchart-complete');\n",
              "        }\n",
              "        (() => {\n",
              "          let quickchartButtonEl =\n",
              "            document.querySelector('#df-4f3835f8-407b-4f46-9a8c-859bf209d0fa button');\n",
              "          quickchartButtonEl.style.display =\n",
              "            google.colab.kernel.accessAllowed ? 'block' : 'none';\n",
              "        })();\n",
              "      </script>\n",
              "    </div>\n",
              "\n",
              "    </div>\n",
              "  </div>\n"
            ],
            "application/vnd.google.colaboratory.intrinsic+json": {
              "type": "dataframe",
              "summary": "{\n  \"name\": \"display(df[['hapus_karakter_sebelum','nospecials_sesudah']]\",\n  \"rows\": 10,\n  \"fields\": [\n    {\n      \"column\": \"hapus_karakter_sebelum\",\n      \"properties\": {\n        \"dtype\": \"string\",\n        \"num_unique_values\": 10,\n        \"samples\": [\n          \"video: penampakan ngeri pelabuhan yaman usai dibombardir as, 80 tewas\",\n          \"mike tyson: muhammad ali ganas seperti t-rex, tapi sangat tampan\",\n          \"sepeda diobral rp1 juta di transmart full day sale hari ini, mau?\"\n        ],\n        \"semantic_type\": \"\",\n        \"description\": \"\"\n      }\n    },\n    {\n      \"column\": \"nospecials_sesudah\",\n      \"properties\": {\n        \"dtype\": \"string\",\n        \"num_unique_values\": 10,\n        \"samples\": [\n          \"video  penampakan ngeri pelabuhan yaman usai dibombardir as  80 tewas\",\n          \"mike tyson  muhammad ali ganas seperti t rex  tapi sangat tampan\",\n          \"sepeda diobral rp1 juta di transmart full day sale hari ini  mau \"\n        ],\n        \"semantic_type\": \"\",\n        \"description\": \"\"\n      }\n    }\n  ]\n}"
            }
          },
          "metadata": {}
        }
      ]
    },
    {
      "cell_type": "code",
      "source": [
        "# 3) Tokenizing (NLTK)\n",
        "from nltk.tokenize import RegexpTokenizer\n",
        "\n",
        "# Pilih kolom input (hasil preprocessing sebelumnya)\n",
        "input_for_token = df['trim_sesudah'] if 'trim_sesudah' in df.columns else df['nospecials_sesudah']\n",
        "df['tokenizing_sebelum'] = input_for_token.fillna('').astype(str).str.strip()\n",
        "# Inisialisasi tokenizer: hanya ambil huruf/angka (hapus tanda baca)\n",
        "tokenizer = RegexpTokenizer(r'\\w+')\n",
        "# Lakukan tokenizing ke setiap baris\n",
        "df['tokens'] = df['tokenizing_sebelum'].apply(lambda t: tokenizer.tokenize(t.lower()) if t else [])\n",
        "\n",
        "print(\"TOKENIZING (menggunakan RegexpTokenizer)\")\n",
        "display(df[['tokenizing_sebelum', 'tokens']].head(10))\n"
      ],
      "metadata": {
        "colab": {
          "base_uri": "https://localhost:8080/",
          "height": 380
        },
        "id": "7qyGfdYYtyKi",
        "outputId": "b0d5bd59-482e-4aba-8617-e0253b21f1da"
      },
      "execution_count": null,
      "outputs": [
        {
          "output_type": "stream",
          "name": "stdout",
          "text": [
            "TOKENIZING (menggunakan RegexpTokenizer)\n"
          ]
        },
        {
          "output_type": "display_data",
          "data": {
            "text/plain": [
              "                                  tokenizing_sebelum  \\\n",
              "0  pesan paskah uskup agung jakarta kardinal igna...   \n",
              "1  mike tyson  muhammad ali ganas seperti t rex  ...   \n",
              "2  kulkas sbs banting harga gila gilaan di transm...   \n",
              "3  hakim djuyamto diduga titip rp704 juta ke satp...   \n",
              "4  leicester vs liverpool  menanti gol kaki kiri ...   \n",
              "5  sepeda diobral rp1 juta di transmart full day ...   \n",
              "6  mungkinkah arsenal simpan tenaga di liga inggr...   \n",
              "7  komisi ix dpr  perusahaan potong gaji karyawan...   \n",
              "8  video  penampakan ngeri pelabuhan yaman usai d...   \n",
              "9   perpres kantor komunikasi presiden digugat ke ma   \n",
              "\n",
              "                                              tokens  \n",
              "0  [pesan, paskah, uskup, agung, jakarta, kardina...  \n",
              "1  [mike, tyson, muhammad, ali, ganas, seperti, t...  \n",
              "2  [kulkas, sbs, banting, harga, gila, gilaan, di...  \n",
              "3  [hakim, djuyamto, diduga, titip, rp704, juta, ...  \n",
              "4  [leicester, vs, liverpool, menanti, gol, kaki,...  \n",
              "5  [sepeda, diobral, rp1, juta, di, transmart, fu...  \n",
              "6  [mungkinkah, arsenal, simpan, tenaga, di, liga...  \n",
              "7  [komisi, ix, dpr, perusahaan, potong, gaji, ka...  \n",
              "8  [video, penampakan, ngeri, pelabuhan, yaman, u...  \n",
              "9  [perpres, kantor, komunikasi, presiden, diguga...  "
            ],
            "text/html": [
              "\n",
              "  <div id=\"df-5688ac0e-30b3-4b52-b8e1-cb24137b584b\" class=\"colab-df-container\">\n",
              "    <div>\n",
              "<style scoped>\n",
              "    .dataframe tbody tr th:only-of-type {\n",
              "        vertical-align: middle;\n",
              "    }\n",
              "\n",
              "    .dataframe tbody tr th {\n",
              "        vertical-align: top;\n",
              "    }\n",
              "\n",
              "    .dataframe thead th {\n",
              "        text-align: right;\n",
              "    }\n",
              "</style>\n",
              "<table border=\"1\" class=\"dataframe\">\n",
              "  <thead>\n",
              "    <tr style=\"text-align: right;\">\n",
              "      <th></th>\n",
              "      <th>tokenizing_sebelum</th>\n",
              "      <th>tokens</th>\n",
              "    </tr>\n",
              "  </thead>\n",
              "  <tbody>\n",
              "    <tr>\n",
              "      <th>0</th>\n",
              "      <td>pesan paskah uskup agung jakarta kardinal igna...</td>\n",
              "      <td>[pesan, paskah, uskup, agung, jakarta, kardina...</td>\n",
              "    </tr>\n",
              "    <tr>\n",
              "      <th>1</th>\n",
              "      <td>mike tyson  muhammad ali ganas seperti t rex  ...</td>\n",
              "      <td>[mike, tyson, muhammad, ali, ganas, seperti, t...</td>\n",
              "    </tr>\n",
              "    <tr>\n",
              "      <th>2</th>\n",
              "      <td>kulkas sbs banting harga gila gilaan di transm...</td>\n",
              "      <td>[kulkas, sbs, banting, harga, gila, gilaan, di...</td>\n",
              "    </tr>\n",
              "    <tr>\n",
              "      <th>3</th>\n",
              "      <td>hakim djuyamto diduga titip rp704 juta ke satp...</td>\n",
              "      <td>[hakim, djuyamto, diduga, titip, rp704, juta, ...</td>\n",
              "    </tr>\n",
              "    <tr>\n",
              "      <th>4</th>\n",
              "      <td>leicester vs liverpool  menanti gol kaki kiri ...</td>\n",
              "      <td>[leicester, vs, liverpool, menanti, gol, kaki,...</td>\n",
              "    </tr>\n",
              "    <tr>\n",
              "      <th>5</th>\n",
              "      <td>sepeda diobral rp1 juta di transmart full day ...</td>\n",
              "      <td>[sepeda, diobral, rp1, juta, di, transmart, fu...</td>\n",
              "    </tr>\n",
              "    <tr>\n",
              "      <th>6</th>\n",
              "      <td>mungkinkah arsenal simpan tenaga di liga inggr...</td>\n",
              "      <td>[mungkinkah, arsenal, simpan, tenaga, di, liga...</td>\n",
              "    </tr>\n",
              "    <tr>\n",
              "      <th>7</th>\n",
              "      <td>komisi ix dpr  perusahaan potong gaji karyawan...</td>\n",
              "      <td>[komisi, ix, dpr, perusahaan, potong, gaji, ka...</td>\n",
              "    </tr>\n",
              "    <tr>\n",
              "      <th>8</th>\n",
              "      <td>video  penampakan ngeri pelabuhan yaman usai d...</td>\n",
              "      <td>[video, penampakan, ngeri, pelabuhan, yaman, u...</td>\n",
              "    </tr>\n",
              "    <tr>\n",
              "      <th>9</th>\n",
              "      <td>perpres kantor komunikasi presiden digugat ke ma</td>\n",
              "      <td>[perpres, kantor, komunikasi, presiden, diguga...</td>\n",
              "    </tr>\n",
              "  </tbody>\n",
              "</table>\n",
              "</div>\n",
              "    <div class=\"colab-df-buttons\">\n",
              "\n",
              "  <div class=\"colab-df-container\">\n",
              "    <button class=\"colab-df-convert\" onclick=\"convertToInteractive('df-5688ac0e-30b3-4b52-b8e1-cb24137b584b')\"\n",
              "            title=\"Convert this dataframe to an interactive table.\"\n",
              "            style=\"display:none;\">\n",
              "\n",
              "  <svg xmlns=\"http://www.w3.org/2000/svg\" height=\"24px\" viewBox=\"0 -960 960 960\">\n",
              "    <path d=\"M120-120v-720h720v720H120Zm60-500h600v-160H180v160Zm220 220h160v-160H400v160Zm0 220h160v-160H400v160ZM180-400h160v-160H180v160Zm440 0h160v-160H620v160ZM180-180h160v-160H180v160Zm440 0h160v-160H620v160Z\"/>\n",
              "  </svg>\n",
              "    </button>\n",
              "\n",
              "  <style>\n",
              "    .colab-df-container {\n",
              "      display:flex;\n",
              "      gap: 12px;\n",
              "    }\n",
              "\n",
              "    .colab-df-convert {\n",
              "      background-color: #E8F0FE;\n",
              "      border: none;\n",
              "      border-radius: 50%;\n",
              "      cursor: pointer;\n",
              "      display: none;\n",
              "      fill: #1967D2;\n",
              "      height: 32px;\n",
              "      padding: 0 0 0 0;\n",
              "      width: 32px;\n",
              "    }\n",
              "\n",
              "    .colab-df-convert:hover {\n",
              "      background-color: #E2EBFA;\n",
              "      box-shadow: 0px 1px 2px rgba(60, 64, 67, 0.3), 0px 1px 3px 1px rgba(60, 64, 67, 0.15);\n",
              "      fill: #174EA6;\n",
              "    }\n",
              "\n",
              "    .colab-df-buttons div {\n",
              "      margin-bottom: 4px;\n",
              "    }\n",
              "\n",
              "    [theme=dark] .colab-df-convert {\n",
              "      background-color: #3B4455;\n",
              "      fill: #D2E3FC;\n",
              "    }\n",
              "\n",
              "    [theme=dark] .colab-df-convert:hover {\n",
              "      background-color: #434B5C;\n",
              "      box-shadow: 0px 1px 3px 1px rgba(0, 0, 0, 0.15);\n",
              "      filter: drop-shadow(0px 1px 2px rgba(0, 0, 0, 0.3));\n",
              "      fill: #FFFFFF;\n",
              "    }\n",
              "  </style>\n",
              "\n",
              "    <script>\n",
              "      const buttonEl =\n",
              "        document.querySelector('#df-5688ac0e-30b3-4b52-b8e1-cb24137b584b button.colab-df-convert');\n",
              "      buttonEl.style.display =\n",
              "        google.colab.kernel.accessAllowed ? 'block' : 'none';\n",
              "\n",
              "      async function convertToInteractive(key) {\n",
              "        const element = document.querySelector('#df-5688ac0e-30b3-4b52-b8e1-cb24137b584b');\n",
              "        const dataTable =\n",
              "          await google.colab.kernel.invokeFunction('convertToInteractive',\n",
              "                                                    [key], {});\n",
              "        if (!dataTable) return;\n",
              "\n",
              "        const docLinkHtml = 'Like what you see? Visit the ' +\n",
              "          '<a target=\"_blank\" href=https://colab.research.google.com/notebooks/data_table.ipynb>data table notebook</a>'\n",
              "          + ' to learn more about interactive tables.';\n",
              "        element.innerHTML = '';\n",
              "        dataTable['output_type'] = 'display_data';\n",
              "        await google.colab.output.renderOutput(dataTable, element);\n",
              "        const docLink = document.createElement('div');\n",
              "        docLink.innerHTML = docLinkHtml;\n",
              "        element.appendChild(docLink);\n",
              "      }\n",
              "    </script>\n",
              "  </div>\n",
              "\n",
              "\n",
              "    <div id=\"df-4cb3db23-d8ad-47e2-8464-ec8b30f55e14\">\n",
              "      <button class=\"colab-df-quickchart\" onclick=\"quickchart('df-4cb3db23-d8ad-47e2-8464-ec8b30f55e14')\"\n",
              "                title=\"Suggest charts\"\n",
              "                style=\"display:none;\">\n",
              "\n",
              "<svg xmlns=\"http://www.w3.org/2000/svg\" height=\"24px\"viewBox=\"0 0 24 24\"\n",
              "     width=\"24px\">\n",
              "    <g>\n",
              "        <path d=\"M19 3H5c-1.1 0-2 .9-2 2v14c0 1.1.9 2 2 2h14c1.1 0 2-.9 2-2V5c0-1.1-.9-2-2-2zM9 17H7v-7h2v7zm4 0h-2V7h2v10zm4 0h-2v-4h2v4z\"/>\n",
              "    </g>\n",
              "</svg>\n",
              "      </button>\n",
              "\n",
              "<style>\n",
              "  .colab-df-quickchart {\n",
              "      --bg-color: #E8F0FE;\n",
              "      --fill-color: #1967D2;\n",
              "      --hover-bg-color: #E2EBFA;\n",
              "      --hover-fill-color: #174EA6;\n",
              "      --disabled-fill-color: #AAA;\n",
              "      --disabled-bg-color: #DDD;\n",
              "  }\n",
              "\n",
              "  [theme=dark] .colab-df-quickchart {\n",
              "      --bg-color: #3B4455;\n",
              "      --fill-color: #D2E3FC;\n",
              "      --hover-bg-color: #434B5C;\n",
              "      --hover-fill-color: #FFFFFF;\n",
              "      --disabled-bg-color: #3B4455;\n",
              "      --disabled-fill-color: #666;\n",
              "  }\n",
              "\n",
              "  .colab-df-quickchart {\n",
              "    background-color: var(--bg-color);\n",
              "    border: none;\n",
              "    border-radius: 50%;\n",
              "    cursor: pointer;\n",
              "    display: none;\n",
              "    fill: var(--fill-color);\n",
              "    height: 32px;\n",
              "    padding: 0;\n",
              "    width: 32px;\n",
              "  }\n",
              "\n",
              "  .colab-df-quickchart:hover {\n",
              "    background-color: var(--hover-bg-color);\n",
              "    box-shadow: 0 1px 2px rgba(60, 64, 67, 0.3), 0 1px 3px 1px rgba(60, 64, 67, 0.15);\n",
              "    fill: var(--button-hover-fill-color);\n",
              "  }\n",
              "\n",
              "  .colab-df-quickchart-complete:disabled,\n",
              "  .colab-df-quickchart-complete:disabled:hover {\n",
              "    background-color: var(--disabled-bg-color);\n",
              "    fill: var(--disabled-fill-color);\n",
              "    box-shadow: none;\n",
              "  }\n",
              "\n",
              "  .colab-df-spinner {\n",
              "    border: 2px solid var(--fill-color);\n",
              "    border-color: transparent;\n",
              "    border-bottom-color: var(--fill-color);\n",
              "    animation:\n",
              "      spin 1s steps(1) infinite;\n",
              "  }\n",
              "\n",
              "  @keyframes spin {\n",
              "    0% {\n",
              "      border-color: transparent;\n",
              "      border-bottom-color: var(--fill-color);\n",
              "      border-left-color: var(--fill-color);\n",
              "    }\n",
              "    20% {\n",
              "      border-color: transparent;\n",
              "      border-left-color: var(--fill-color);\n",
              "      border-top-color: var(--fill-color);\n",
              "    }\n",
              "    30% {\n",
              "      border-color: transparent;\n",
              "      border-left-color: var(--fill-color);\n",
              "      border-top-color: var(--fill-color);\n",
              "      border-right-color: var(--fill-color);\n",
              "    }\n",
              "    40% {\n",
              "      border-color: transparent;\n",
              "      border-right-color: var(--fill-color);\n",
              "      border-top-color: var(--fill-color);\n",
              "    }\n",
              "    60% {\n",
              "      border-color: transparent;\n",
              "      border-right-color: var(--fill-color);\n",
              "    }\n",
              "    80% {\n",
              "      border-color: transparent;\n",
              "      border-right-color: var(--fill-color);\n",
              "      border-bottom-color: var(--fill-color);\n",
              "    }\n",
              "    90% {\n",
              "      border-color: transparent;\n",
              "      border-bottom-color: var(--fill-color);\n",
              "    }\n",
              "  }\n",
              "</style>\n",
              "\n",
              "      <script>\n",
              "        async function quickchart(key) {\n",
              "          const quickchartButtonEl =\n",
              "            document.querySelector('#' + key + ' button');\n",
              "          quickchartButtonEl.disabled = true;  // To prevent multiple clicks.\n",
              "          quickchartButtonEl.classList.add('colab-df-spinner');\n",
              "          try {\n",
              "            const charts = await google.colab.kernel.invokeFunction(\n",
              "                'suggestCharts', [key], {});\n",
              "          } catch (error) {\n",
              "            console.error('Error during call to suggestCharts:', error);\n",
              "          }\n",
              "          quickchartButtonEl.classList.remove('colab-df-spinner');\n",
              "          quickchartButtonEl.classList.add('colab-df-quickchart-complete');\n",
              "        }\n",
              "        (() => {\n",
              "          let quickchartButtonEl =\n",
              "            document.querySelector('#df-4cb3db23-d8ad-47e2-8464-ec8b30f55e14 button');\n",
              "          quickchartButtonEl.style.display =\n",
              "            google.colab.kernel.accessAllowed ? 'block' : 'none';\n",
              "        })();\n",
              "      </script>\n",
              "    </div>\n",
              "\n",
              "    </div>\n",
              "  </div>\n"
            ],
            "application/vnd.google.colaboratory.intrinsic+json": {
              "type": "dataframe",
              "summary": "{\n  \"name\": \"display(df[['tokenizing_sebelum', 'tokens']]\",\n  \"rows\": 10,\n  \"fields\": [\n    {\n      \"column\": \"tokenizing_sebelum\",\n      \"properties\": {\n        \"dtype\": \"string\",\n        \"num_unique_values\": 10,\n        \"samples\": [\n          \"video  penampakan ngeri pelabuhan yaman usai dibombardir as  80 tewas\",\n          \"mike tyson  muhammad ali ganas seperti t rex  tapi sangat tampan\",\n          \"sepeda diobral rp1 juta di transmart full day sale hari ini  mau\"\n        ],\n        \"semantic_type\": \"\",\n        \"description\": \"\"\n      }\n    },\n    {\n      \"column\": \"tokens\",\n      \"properties\": {\n        \"dtype\": \"object\",\n        \"semantic_type\": \"\",\n        \"description\": \"\"\n      }\n    }\n  ]\n}"
            }
          },
          "metadata": {}
        }
      ]
    },
    {
      "cell_type": "code",
      "source": [
        "# Simpan dan download hasil preprocessing (Excel .xlsx)\n",
        "try:\n",
        "    import openpyxl  # hanya untuk mengecek\n",
        "except Exception:\n",
        "    !pip install --quiet openpyxl\n",
        "    import openpyxl\n",
        "\n",
        "from google.colab import files\n",
        "import os\n",
        "\n",
        "cols_to_save = [\n",
        "    'orig_text_for_preproc',\n",
        "    'casefold_sebelum', 'casefold_sesudah',\n",
        "    'hapus_karakter_sebelum', 'nospecials_sesudah',\n",
        "    'tokenizing_sebelum', 'tokens'\n",
        "]\n",
        "\n",
        "cols_to_save = [c for c in cols_to_save if c in df.columns]\n",
        "out_xlsx = \"/content/preprocessed_output.xlsx\"\n",
        "out_csv  = \"/content/preprocessed_output.csv\"\n",
        "df.to_excel(out_xlsx, columns=cols_to_save, index=False)\n",
        "df.to_csv(out_csv, columns=cols_to_save, index=False, encoding='utf-8')\n",
        "print(\"Mempersiapkan download...\")\n",
        "files.download(out_xlsx)"
      ],
      "metadata": {
        "colab": {
          "base_uri": "https://localhost:8080/",
          "height": 34
        },
        "id": "tSs9TzlAtQVA",
        "outputId": "7742e1ac-0798-4505-9bc0-72bab2d564cd"
      },
      "execution_count": null,
      "outputs": [
        {
          "output_type": "stream",
          "name": "stdout",
          "text": [
            "Mempersiapkan download...\n"
          ]
        },
        {
          "output_type": "display_data",
          "data": {
            "text/plain": [
              "<IPython.core.display.Javascript object>"
            ],
            "application/javascript": [
              "\n",
              "    async function download(id, filename, size) {\n",
              "      if (!google.colab.kernel.accessAllowed) {\n",
              "        return;\n",
              "      }\n",
              "      const div = document.createElement('div');\n",
              "      const label = document.createElement('label');\n",
              "      label.textContent = `Downloading \"${filename}\": `;\n",
              "      div.appendChild(label);\n",
              "      const progress = document.createElement('progress');\n",
              "      progress.max = size;\n",
              "      div.appendChild(progress);\n",
              "      document.body.appendChild(div);\n",
              "\n",
              "      const buffers = [];\n",
              "      let downloaded = 0;\n",
              "\n",
              "      const channel = await google.colab.kernel.comms.open(id);\n",
              "      // Send a message to notify the kernel that we're ready.\n",
              "      channel.send({})\n",
              "\n",
              "      for await (const message of channel.messages) {\n",
              "        // Send a message to notify the kernel that we're ready.\n",
              "        channel.send({})\n",
              "        if (message.buffers) {\n",
              "          for (const buffer of message.buffers) {\n",
              "            buffers.push(buffer);\n",
              "            downloaded += buffer.byteLength;\n",
              "            progress.value = downloaded;\n",
              "          }\n",
              "        }\n",
              "      }\n",
              "      const blob = new Blob(buffers, {type: 'application/binary'});\n",
              "      const a = document.createElement('a');\n",
              "      a.href = window.URL.createObjectURL(blob);\n",
              "      a.download = filename;\n",
              "      div.appendChild(a);\n",
              "      a.click();\n",
              "      div.remove();\n",
              "    }\n",
              "  "
            ]
          },
          "metadata": {}
        },
        {
          "output_type": "display_data",
          "data": {
            "text/plain": [
              "<IPython.core.display.Javascript object>"
            ],
            "application/javascript": [
              "download(\"download_1b240630-bcfd-4db5-962a-d83200660d4e\", \"preprocessed_output.xlsx\", 482439)"
            ]
          },
          "metadata": {}
        }
      ]
    },
    {
      "cell_type": "markdown",
      "source": [
        "# **SOAL PENUGASAN** <BR>\n",
        "**Dari dataset yang tersedia atau yang kamu cari sendiri, lakukanlah proses Text Data Preprocessing yang dapat kamu terapkan (minimal tiga jenis tahap), selain yang sudah dicontohkan di atas, yaitu Lowercase.**"
      ],
      "metadata": {
        "id": "vpWV4hk6eZsX"
      }
    },
    {
      "cell_type": "markdown",
      "source": [
        "# **Referensi :**\n",
        "\n",
        "1. [https://docs.vultr.com/python/examples/remove-punctuations-from-a-string](https://docs.vultr.com/python/examples/remove-punctuations-from-a-string)\n",
        "2. [https://www.jeremymorgan.com/python/how-to-remove-punctuation-from-a-string-python/](https://www.jeremymorgan.com/python/how-to-remove-punctuation-from-a-string-python/)\n",
        "3. [https://www.geeksforgeeks.org/python/python-remove-punctuation-from-string/](https://www.geeksforgeeks.org/python/python-remove-punctuation-from-string/)\n",
        "4. [https://favtutor.com/blogs/remove-punctuation-from-string-python](https://favtutor.com/blogs/remove-punctuation-from-string-python)\n",
        "5. [https://stackoverflow.com/questions/265960/best-way-to-strip-punctuation-from-a-string](https://stackoverflow.com/questions/265960/best-way-to-strip-punctuation-from-a-string)\n",
        "6. [https://www.programiz.com/python-programming/examples/remove-punctuation](https://www.programiz.com/python-programming/examples/remove-punctuation)\n",
        "7. [https://www.tutorialspoint.com/How-to-strip-down-all-the-punctuation-from-a-string-in-Python](https://www.tutorialspoint.com/How-to-strip-down-all-the-punctuation-from-a-string-in-Python)\n",
        "8. [https://www.i2text.com/id/remove-unwanted-characters](https://www.i2text.com/id/remove-unwanted-characters)\n",
        "9. [https://www.youtube.com/watch?v=bibWRNi7CFs](https://www.youtube.com/watch?v=bibWRNi7CFs)\n",
        "10. [https://id.scribd.com/document/504569443/Cara-Menghapus-spasi-Xtra](https://id.scribd.com/document/504569443/Cara-Menghapus-spasi-Xtra)\n",
        "11. [https://docs.python.org/3/library/stdtypes.html#str.lower](https://docs.python.org/3/library/stdtypes.html#str.lower)\n",
        "12. [https://www.nltk.org/book/ch02.html#stopwords-removal](https://www.nltk.org/book/ch02.html#stopwords-removal)\n",
        "13. [https://spacy.io/usage/linguistic-features#stop-words](https://spacy.io/usage/linguistic-features#stop-words)\n",
        "14. [https://www.nltk.org/howto/stem.html](https://www.nltk.org/howto/stem.html)\n",
        "15. [https://spacy.io/api/lemmatizer](https://spacy.io/api/lemmatizer)\n"
      ],
      "metadata": {
        "id": "97c_iUADhkKF"
      }
    }
  ]
}